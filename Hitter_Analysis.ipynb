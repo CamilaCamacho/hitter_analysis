{
 "cells": [
  {
   "cell_type": "markdown",
   "metadata": {
    "colab_type": "text",
    "id": "s5jhviGYBDyE"
   },
   "source": [
    "# Hitter Analysis"
   ]
  },
  {
   "cell_type": "code",
   "execution_count": 130,
   "metadata": {
    "colab": {},
    "colab_type": "code",
    "id": "iNUr5LgHE5dw"
   },
   "outputs": [],
   "source": [
    "import pandas as pd\n",
    "import numpy as np\n",
    "import matplotlib.pyplot as plt\n",
    "import json\n",
    "#import plotly.express as px"
   ]
  },
  {
   "cell_type": "markdown",
   "metadata": {
    "colab_type": "text",
    "id": "12qOfWgXqL0l"
   },
   "source": [
    "### Set up dataframe"
   ]
  },
  {
   "cell_type": "code",
   "execution_count": 131,
   "metadata": {
    "colab": {
     "base_uri": "https://localhost:8080/",
     "height": 363
    },
    "colab_type": "code",
    "id": "BLD5OtSwtQLl",
    "outputId": "9ec7c6ee-8747-4c24-be88-5fc40f0eff38"
   },
   "outputs": [],
   "source": [
    "# import data \n",
    "df = pd.read_csv('savant_data_6_hitters.csv')\n",
    "\n",
    "# clean df by eliminating rows where game_pk and pitch_type is missing\n",
    "df.dropna(subset=['game_pk', 'pitch_type'], inplace=True)\n",
    "\n",
    "# fix up column datatypes\n",
    "df['game_pk'] = df['game_pk'].astype(int) # to get rid of the *.0\n",
    "df['game_pk'] = df['game_pk'].astype(str)\n",
    "df['sv_id'] = df['sv_id'].astype(str)\n",
    "df['pitcher'] = df['pitcher'].astype(int) # to get rid of the *.0\n",
    "df['batter'] = df['batter'].astype(int) # to get rid of the *.0\n",
    "df['batter'] = df['batter'].astype(str)\n",
    "\n",
    "# switch from catcher's perspective to pitcher's perspective\n",
    "# Catcher's POV: (plate_x,plate_z)\n",
    "# Pitcher's POV: (plate_-x,plate_z)\n",
    "df['plate_-x'] = -df['plate_x']\n",
    "\n",
    "# create unique pitch_id\n",
    "df['pitch_id'] = df['game_pk'] + \" \" + df['sv_id']\n",
    "\n",
    "# show data \n",
    "#df.head()\n",
    "#list(df.columns.values)"
   ]
  },
  {
   "cell_type": "code",
   "execution_count": 132,
   "metadata": {
    "colab": {
     "base_uri": "https://localhost:8080/",
     "height": 474
    },
    "colab_type": "code",
    "id": "A3Df6y9jGCOe",
    "outputId": "ede1bbca-4fce-41d0-b6de-6de4f5484547"
   },
   "outputs": [
    {
     "data": {
      "text/plain": [
       "game_pk           object\n",
       "sv_id             object\n",
       "pitch_id          object\n",
       "batter            object\n",
       "stand             object\n",
       "pitcher            int64\n",
       "pitch_type        object\n",
       "release_speed    float64\n",
       "description       object\n",
       "events            object\n",
       "plate_x          float64\n",
       "plate_-x         float64\n",
       "plate_z          float64\n",
       "sz_top           float64\n",
       "sz_bot           float64\n",
       "dtype: object"
      ]
     },
     "execution_count": 132,
     "metadata": {},
     "output_type": "execute_result"
    }
   ],
   "source": [
    "# make new dataframe with less info\n",
    "df_pitch_coords = df[['game_pk','sv_id','pitch_id','batter','stand','pitcher','pitch_type','release_speed',\n",
    "                      'description','events','plate_x','plate_-x','plate_z', 'sz_top','sz_bot']]\n",
    "\n",
    "## TODO clean up by eliminating non-swing hits?\n",
    "\n",
    "df_pitch_coords.head(10)\n",
    "df_pitch_coords.dtypes"
   ]
  },
  {
   "cell_type": "code",
   "execution_count": 133,
   "metadata": {},
   "outputs": [
    {
     "name": "stdout",
     "output_type": "stream",
     "text": [
      "Left Hitters\n",
      "{'592885', '641355'}\n",
      "\n",
      "Right Hitters\n",
      "{'593160', '545361', '660670', '641313'}\n",
      "\n",
      "Switch Hitters\n",
      "set()\n"
     ]
    }
   ],
   "source": [
    "# sets of unique batter ids\n",
    "left_hitters = set()\n",
    "right_hitters = set()\n",
    "for row in range(df_pitch_coords.shape[0]):\n",
    "    batter_id = df_pitch_coords.iloc[row]['batter']\n",
    "    batter_stand = df_pitch_coords.iloc[row]['stand']\n",
    "    \n",
    "    if batter_stand == 'L':\n",
    "        #if batter_id not in left_hitters:\n",
    "        left_hitters.add(batter_id)\n",
    "    if batter_stand == 'R':\n",
    "        #if batter_id not in right_hitters:\n",
    "        right_hitters.add(batter_id)\n",
    "\n",
    "switch_hitters = left_hitters & right_hitters\n",
    "\n",
    "print(\"Left Hitters\")\n",
    "print(left_hitters)\n",
    "print()\n",
    "print(\"Right Hitters\")\n",
    "print(right_hitters)\n",
    "print()\n",
    "print(\"Switch Hitters\")\n",
    "print(switch_hitters)"
   ]
  },
  {
   "cell_type": "markdown",
   "metadata": {
    "colab_type": "text",
    "id": "4MgfbgGhqC9X"
   },
   "source": [
    "### Show all pitches in scatter plot "
   ]
  },
  {
   "cell_type": "code",
   "execution_count": 134,
   "metadata": {
    "colab": {
     "base_uri": "https://localhost:8080/",
     "height": 314
    },
    "colab_type": "code",
    "id": "C0oXTOd6LqQa",
    "outputId": "e0a2cecb-fe2e-44a6-f154-36baff8084b3"
   },
   "outputs": [
    {
     "data": {
      "text/plain": [
       "<matplotlib.axes._subplots.AxesSubplot at 0x110e48610>"
      ]
     },
     "execution_count": 134,
     "metadata": {},
     "output_type": "execute_result"
    },
    {
     "data": {
      "image/png": "[encoded data removed]",
      "text/plain": [
       "<Figure size 432x288 with 1 Axes>"
      ]
     },
     "metadata": {
      "needs_background": "light"
     },
     "output_type": "display_data"
    }
   ],
   "source": [
    "all_pitches_plot = df_pitch_coords.plot(kind='scatter', x='plate_-x', y='plate_z',\n",
    "                           title='plate coordinates from catcher perspective')\n",
    "# center of plate at ground = (0,0)\n",
    "\n",
    "all_pitches_plot"
   ]
  },
  {
   "cell_type": "markdown",
   "metadata": {
    "colab_type": "text",
    "id": "5tG8GulY8MOV"
   },
   "source": [
    "### Calculate what zone a pitch falls into"
   ]
  },
  {
   "cell_type": "code",
   "execution_count": 135,
   "metadata": {},
   "outputs": [],
   "source": [
    "def det_batter_zone(x,z,sz_top,sz_bot):\n",
    "    sz_mid = ((sz_top - sz_bot)/2) + sz_bot\n",
    "    sz_third = (sz_top - sz_bot)/3\n",
    "    # non-competitive pitches\n",
    "    if (z < 1) or (z > 4) or (x < -1.5) or (x > 1.5):\n",
    "        return 0 \n",
    "    # inner strikezone (1-9)\n",
    "    elif (sz_bot <= z) and (z <= sz_top) and (-0.7 <= x) and (x <= 0.7):\n",
    "        if (sz_top >= z) and (z > (sz_top-sz_third)):\n",
    "            if (x <= -0.23):\n",
    "                return 1\n",
    "            elif (x <= 0.23):\n",
    "                return 2\n",
    "            elif (x <= 0.7):\n",
    "                  return 3\n",
    "        elif ((sz_top-sz_third) >= z) and (z > (sz_bot+sz_third)):\n",
    "            if (x <= -0.23):\n",
    "                return 4\n",
    "            elif (x <= 0.23):\n",
    "                return 5\n",
    "            elif (x <= 0.7):\n",
    "                return 6\n",
    "        elif ((sz_bot+sz_third) >= z) and (z >= sz_bot):\n",
    "            if (x <= -0.23):\n",
    "                return 7\n",
    "            elif (x <= 0.23):\n",
    "                return 8\n",
    "            elif (x <= 0.7):\n",
    "                return 9\n",
    "    # outer strike zone\n",
    "    # top row (10-13)\n",
    "    elif (sz_top < z) and (z <= 4) and (-1.5 <= x) and (x <= 1.5):\n",
    "        if (x <= -0.7):\n",
    "            return 10\n",
    "        elif (x <= 0):\n",
    "            return 11\n",
    "        elif (x <= 0.7):\n",
    "            return 12\n",
    "        elif (x <= 1.5):\n",
    "            return 13\n",
    "    # top middle row (14,15)\n",
    "    elif (sz_mid < z) and (z <= sz_top):\n",
    "        if (-1.5 <= x) and (-0.7 > x):\n",
    "            return 14\n",
    "        elif (0.7 < x) and (x <= 1.5):\n",
    "            return 15\n",
    "    # bottom middle row (16,17)\n",
    "    elif (sz_bot < z) and (z <= sz_mid):\n",
    "        if (-1.5 <= x) and (-0.7 > x):\n",
    "            return 16\n",
    "        elif (0.7 < x) and (x <= 1.5):\n",
    "            return 17\n",
    "    # bottom row (18-21)\n",
    "    elif (1 <= z) and (z <= sz_bot) and (-1.5 <= x) and (x <= 1.5):\n",
    "        if (x <= -0.7):\n",
    "            return 18\n",
    "        elif (x <= 0):\n",
    "            return 19\n",
    "        elif (x <= 0.7):\n",
    "            return 20\n",
    "        elif (x <= 1.5):\n",
    "            return 21\n",
    "    # null or invalid\n",
    "    return -1 "
   ]
  },
  {
   "cell_type": "markdown",
   "metadata": {
    "colab_type": "text",
    "id": "XnxzUbF78bIB"
   },
   "source": [
    "### Measure success of pitch type per zone per batter "
   ]
  },
  {
   "cell_type": "markdown",
   "metadata": {},
   "source": [
    "* batters is dictionary that maps batter id to zones list\n",
    "    * zones is list that maps zone num (index) to pitch_types dictionary\n",
    "        * pitch_types is dictionary that maps type of pitch to counters for hits, fouls, strikes, and total pitches"
   ]
  },
  {
   "cell_type": "code",
   "execution_count": 136,
   "metadata": {
    "colab": {
     "base_uri": "https://localhost:8080/",
     "height": 74
    },
    "colab_type": "code",
    "id": "KZ3cHIKjFeHa",
    "outputId": "11d30b9e-a283-4bc8-e49a-f42264bd989b"
   },
   "outputs": [],
   "source": [
    "batters = {}\n",
    "for row in range(df_pitch_coords.shape[0]):\n",
    "    pitch_zone = det_batter_zone(df_pitch_coords.iloc[row]['plate_-x'],\n",
    "                          df_pitch_coords.iloc[row]['plate_z'],\n",
    "                          df_pitch_coords.iloc[row]['sz_top'],\n",
    "                          df_pitch_coords.iloc[row]['sz_bot'])\n",
    "  \n",
    "    if (pitch_zone != -1): # don't include null or invalid pitches in zone -1\n",
    "        batter_id = df_pitch_coords.iloc[row]['batter']\n",
    "        pitch_type = df_pitch_coords.iloc[row]['pitch_type']\n",
    "        pitch_event = df_pitch_coords.iloc[row]['events']\n",
    "        pitch_result = df_pitch_coords.iloc[row]['description']\n",
    "        pitch_speed = df_pitch_coords.iloc[row]['release_speed']\n",
    "\n",
    "        # initialize new batter\n",
    "        if batter_id not in batters:\n",
    "            batters[batter_id] = [] # init empty zones list\n",
    "            for z in range(22): # 22 zones (0: noncompetitive, 1-21: strikezone)\n",
    "                pitch_types = {}\n",
    "                batters[batter_id].insert(z, pitch_types)\n",
    "        # initialize new pitch_type \n",
    "        if pitch_type not in batters[batter_id][pitch_zone]:\n",
    "            batters[batter_id][pitch_zone][pitch_type] = [] #todo: maybe dict?\n",
    "            for c in range(5): # num of counters\n",
    "                if c == 0:\n",
    "                    batters[batter_id][pitch_zone][pitch_type].insert(c, 0)\n",
    "                else:\n",
    "                    batters[batter_id][pitch_zone][pitch_type].insert(c, [0, 0])\n",
    "\n",
    "        # Add to counters:\n",
    "        \n",
    "        # swing and miss\n",
    "        if pitch_result in ('swinging_strike', 'swinging_strike_blocked'):\n",
    "            batters[batter_id][pitch_zone][pitch_type][0] += 1 # total\n",
    "            batters[batter_id][pitch_zone][pitch_type][1][0] += 1 # total misses\n",
    "            batters[batter_id][pitch_zone][pitch_type][1][1] += pitch_speed\n",
    "        # swing and foul\n",
    "        elif pitch_result in ('foul', 'foul_tip'): # foul (runner going) ???\n",
    "            batters[batter_id][pitch_zone][pitch_type][0] += 1 # total\n",
    "            batters[batter_id][pitch_zone][pitch_type][2][0] += 1 # total fouls\n",
    "            batters[batter_id][pitch_zone][pitch_type][2][1] += pitch_speed\n",
    "         # swing and hit\n",
    "        elif pitch_result in ('hit_into_play', 'hit_into_play_no_out', 'hit_into_play_score'):\n",
    "            # made contact and obtained a hit\n",
    "            if pitch_event in ('single', 'double', 'triple', 'home_run'):\n",
    "                batters[batter_id][pitch_zone][pitch_type][0] += 1 # total\n",
    "                batters[batter_id][pitch_zone][pitch_type][3][0] += 1 # total contact to hit\n",
    "                batters[batter_id][pitch_zone][pitch_type][3][1] += pitch_speed\n",
    "            # made contact and obtained an out\n",
    "            elif pitch_event not in ('single', 'double', 'triple', 'home_run'):\n",
    "                batters[batter_id][pitch_zone][pitch_type][0] += 1 # total\n",
    "                batters[batter_id][pitch_zone][pitch_type][4][0] += 1 # total contact to out\n",
    "                batters[batter_id][pitch_zone][pitch_type][4][1] += pitch_speed\n",
    "        # else: # batter didn't swing"
   ]
  },
  {
   "cell_type": "code",
   "execution_count": 145,
   "metadata": {},
   "outputs": [],
   "source": [
    "def get_color_speed(pitch_count_list):\n",
    "    # total is when batter swung\n",
    "    total = pitch_count_list[0]\n",
    "    # misses\n",
    "    num_misses = pitch_count_list[1][0]\n",
    "    sum_speed_misses = pitch_count_list[1][1]\n",
    "    # fouls\n",
    "    num_fouls = pitch_count_list[2][0]\n",
    "    sum_speed_fouls = pitch_count_list[2][1]\n",
    "    # contact to hits\n",
    "    num_contact_to_hits = pitch_count_list[3][0]\n",
    "    sum_speed_hits = pitch_count_list[3][1]\n",
    "    # contact to outs\n",
    "    num_contact_to_outs = pitch_count_list[4][0]\n",
    "    sum_speed_outs = pitch_count_list[4][1]\n",
    "    \n",
    "    color = None\n",
    "    speed = None\n",
    "    if total > 5:\n",
    "        if (num_contact_to_hits / total) > 0.33:\n",
    "            color = \"red\"\n",
    "            speed = sum_speed_hits // num_contact_to_hits\n",
    "            int(speed)\n",
    "        elif((num_fouls + num_misses) / total) > 0.8:\n",
    "            color = \"green\"\n",
    "            speed = (sum_speed_fouls + sum_speed_misses) // (num_fouls + num_misses)\n",
    "            int(speed)\n",
    "        elif((num_contact_to_outs + num_fouls + num_misses) / total) > 0.75:\n",
    "            color = \"yellow\"\n",
    "            speed = (sum_speed_outs + sum_speed_fouls + sum_speed_misses) // (num_contact_to_outs + num_fouls + num_misses)\n",
    "            int(speed)\n",
    "    return (color, speed)"
   ]
  },
  {
   "cell_type": "code",
   "execution_count": 163,
   "metadata": {
    "scrolled": true
   },
   "outputs": [],
   "source": [
    "# for b in batters:    \n",
    "#     for z in range(22):\n",
    "#         for p in batters[b][z]:\n",
    "#             batters[b][z][p].insert(5,get_color_speed(batters[b][z][p]))\n",
    "\n",
    "# print(batters['641355'])"
   ]
  },
  {
   "cell_type": "markdown",
   "metadata": {},
   "source": [
    "### Data Set With Relevant Info for JSON"
   ]
  },
  {
   "cell_type": "code",
   "execution_count": 162,
   "metadata": {},
   "outputs": [],
   "source": [
    "with open(\"6_hitters_all.json\", \"w\") as hitters_file:\n",
    "    json.dump(batters, hitters_file, sort_keys=True, indent=2)"
   ]
  },
  {
   "cell_type": "code",
   "execution_count": 158,
   "metadata": {},
   "outputs": [],
   "source": [
    "simplified_batters = {}\n",
    "for b in batters:\n",
    "    simplified_batters[b] = []\n",
    "    for z in range(22):\n",
    "        pitch_types = {}\n",
    "        simplified_batters[b].insert(z, pitch_types)\n",
    "        for p in batters[b][z]:\n",
    "            #simplified_batters[b][z][p] = get_color_speed(batters[b][z][p])\n",
    "            color, avg_speed = get_color_speed(batters[b][z][p])\n",
    "            if (color != None) and (avg_speed != None):\n",
    "                simplified_batters[b][z][p] = (color, avg_speed)\n",
    "    \n",
    "#print(simplified_batters)"
   ]
  },
  {
   "cell_type": "code",
   "execution_count": 159,
   "metadata": {},
   "outputs": [],
   "source": [
    "with open(\"6_hitters_simp.json\", \"w\") as hitters_file:\n",
    "    json.dump(simplified_batters, hitters_file, sort_keys=True, indent=2)"
   ]
  },
  {
   "cell_type": "markdown",
   "metadata": {
    "colab_type": "text",
    "id": "33dFJ7w8pMYB"
   },
   "source": [
    "### Sanity Check for colors of pitch types in zone for batter"
   ]
  },
  {
   "cell_type": "code",
   "execution_count": 166,
   "metadata": {
    "colab": {
     "base_uri": "https://localhost:8080/",
     "height": 1000
    },
    "colab_type": "code",
    "id": "qlC5cPuiQOLj",
    "outputId": "3d85b421-5837-4baa-e168-7013568ba7a4"
   },
   "outputs": [
    {
     "name": "stdout",
     "output_type": "stream",
     "text": [
      "Cody Bellinger 2019 Season\n",
      "\n",
      "Zone 0\n",
      "Red: []\n",
      "Yellow: []\n",
      "Green: [('FF', 93), ('CH', 83), ('SL', 85)]\n",
      "\n",
      "Zone 1\n",
      "Red: []\n",
      "Yellow: [('FF', 92)]\n",
      "Green: []\n",
      "\n",
      "Zone 2\n",
      "Red: []\n",
      "Yellow: [('FF', 94)]\n",
      "Green: []\n",
      "\n",
      "Zone 3\n",
      "Red: []\n",
      "Yellow: [('FF', 93)]\n",
      "Green: []\n",
      "\n",
      "Zone 4\n",
      "Red: []\n",
      "Yellow: [('SL', 86), ('FF', 94), ('SI', 92), ('FC', 88)]\n",
      "Green: []\n",
      "\n",
      "Zone 5\n",
      "Red: []\n",
      "Yellow: [('FF', 93), ('SL', 85), ('CH', 87), ('SI', 92)]\n",
      "Green: []\n",
      "\n",
      "Zone 6\n",
      "Red: [('SL', 85), ('CH', 88)]\n",
      "Yellow: [('FF', 94)]\n",
      "Green: [('FT', 93)]\n",
      "\n",
      "Zone 7\n",
      "Red: []\n",
      "Yellow: [('SL', 85), ('CH', 84), ('CU', 79), ('FT', 92)]\n",
      "Green: []\n",
      "\n",
      "Zone 8\n",
      "Red: []\n",
      "Yellow: [('FF', 93), ('CH', 86), ('FT', 93), ('SI', 91), ('SL', 84)]\n",
      "Green: []\n",
      "\n",
      "Zone 9\n",
      "Red: []\n",
      "Yellow: [('SL', 84), ('CH', 86), ('FF', 94), ('FC', 89), ('FT', 93)]\n",
      "Green: []\n",
      "\n",
      "Zone 10\n",
      "Red: []\n",
      "Yellow: []\n",
      "Green: []\n",
      "\n",
      "Zone 11\n",
      "Red: []\n",
      "Yellow: [('FF', 93)]\n",
      "Green: []\n",
      "\n",
      "Zone 12\n",
      "Red: [('FF', 92)]\n",
      "Yellow: []\n",
      "Green: []\n",
      "\n",
      "Zone 13\n",
      "Red: []\n",
      "Yellow: []\n",
      "Green: []\n",
      "\n",
      "Zone 14\n",
      "Red: []\n",
      "Yellow: [('FF', 93)]\n",
      "Green: []\n",
      "\n",
      "Zone 15\n",
      "Red: [('CH', 84)]\n",
      "Yellow: [('FT', 94), ('SL', 84), ('FF', 93)]\n",
      "Green: []\n",
      "\n",
      "Zone 16\n",
      "Red: []\n",
      "Yellow: [('SI', 90), ('SL', 85), ('FF', 92)]\n",
      "Green: [('FC', 88)]\n",
      "\n",
      "Zone 17\n",
      "Red: [('SI', 92)]\n",
      "Yellow: [('FF', 93), ('SL', 82), ('CH', 86), ('CU', 78), ('FT', 93), ('FC', 88)]\n",
      "Green: []\n",
      "\n",
      "Zone 18\n",
      "Red: []\n",
      "Yellow: []\n",
      "Green: []\n",
      "\n",
      "Zone 19\n",
      "Red: [('FF', 96)]\n",
      "Yellow: []\n",
      "Green: [('CU', 79), ('SL', 85), ('CH', 84)]\n",
      "\n",
      "Zone 20\n",
      "Red: [('SI', 91)]\n",
      "Yellow: [('CH', 86), ('SL', 84)]\n",
      "Green: [('FS', 85), ('CU', 80)]\n",
      "\n",
      "Zone 21\n",
      "Red: []\n",
      "Yellow: [('CH', 85)]\n",
      "Green: [('SL', 84)]\n",
      "\n"
     ]
    }
   ],
   "source": [
    "# for b in batters:\n",
    "print(\"Cody Bellinger 2019 Season\")\n",
    "bellinger = '641355'\n",
    "print()\n",
    "for z in range(22):\n",
    "    print(\"Zone %s\" %z)\n",
    "    red_pitch_types = []\n",
    "    yellow_pitch_types = []\n",
    "    green_pitch_types = []\n",
    "\n",
    "    for p in batters[bellinger][z]:\n",
    "        # color = batters[bellinger][z][p][5][0]\n",
    "        # avg_speed = batters[bellinger][z][p][5][1]\n",
    "        color, avg_speed = get_color_speed(batters[bellinger][z][p])\n",
    "        if color == 'red':\n",
    "            red_pitch_types.append((p, int(avg_speed)))\n",
    "        elif color == 'yellow':\n",
    "            yellow_pitch_types.append((p, int(avg_speed)))\n",
    "        elif color == 'green':\n",
    "            green_pitch_types.append((p, int(avg_speed)))\n",
    "\n",
    "    print(\"Red: \" + str(red_pitch_types))\n",
    "    print(\"Yellow: \" + str(yellow_pitch_types))\n",
    "    print(\"Green: \" + str(green_pitch_types))\n",
    "    print()"
   ]
  },
  {
   "cell_type": "code",
   "execution_count": null,
   "metadata": {
    "colab": {},
    "colab_type": "code",
    "id": "Ry7lCPELertM"
   },
   "outputs": [],
   "source": []
  }
 ],
 "metadata": {
  "colab": {
   "collapsed_sections": [],
   "name": "Hitter Analysis",
   "provenance": []
  },
  "kernelspec": {
   "display_name": "venv",
   "language": "python",
   "name": "venv"
  },
  "language_info": {
   "codemirror_mode": {
    "name": "ipython",
    "version": 3
   },
   "file_extension": ".py",
   "mimetype": "text/x-python",
   "name": "python",
   "nbconvert_exporter": "python",
   "pygments_lexer": "ipython3",
   "version": "3.8.1"
  }
 },
 "nbformat": 4,
 "nbformat_minor": 4
}
