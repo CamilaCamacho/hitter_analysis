{
 "cells": [
  {
   "cell_type": "markdown",
   "metadata": {
    "colab_type": "text",
    "id": "s5jhviGYBDyE"
   },
   "source": [
    "# Hitter Analysis"
   ]
  },
  {
   "cell_type": "code",
   "execution_count": 2,
   "metadata": {
    "colab": {},
    "colab_type": "code",
    "id": "iNUr5LgHE5dw"
   },
   "outputs": [],
   "source": [
    "import pandas as pd\n",
    "import numpy as np\n",
    "import matplotlib.pyplot as plt\n",
    "import json\n",
    "# import plotly.express as px"
   ]
  },
  {
   "cell_type": "markdown",
   "metadata": {
    "colab_type": "text",
    "id": "12qOfWgXqL0l"
   },
   "source": [
    "### Set up dataframe"
   ]
  },
  {
   "cell_type": "code",
   "execution_count": null,
   "metadata": {
    "colab": {
     "base_uri": "https://localhost:8080/",
     "height": 363
    },
    "colab_type": "code",
    "id": "BLD5OtSwtQLl",
    "outputId": "9ec7c6ee-8747-4c24-be88-5fc40f0eff38"
   },
   "outputs": [],
   "source": [
    "# import data \n",
    "df = pd.read_csv('savant_data_6_hitters.csv')\n",
    "\n",
    "# clean df by eliminating rows where game_pk and pitch_type is missing\n",
    "df.dropna(subset=['game_pk', 'pitch_type'], inplace=True)\n",
    "\n",
    "# fix up column datatypes\n",
    "df['game_pk'] = df['game_pk'].astype(int) # to get rid of the *.0\n",
    "df['game_pk'] = df['game_pk'].astype(str)\n",
    "df['sv_id'] = df['sv_id'].astype(str)\n",
    "df['pitcher'] = df['pitcher'].astype(int) # to get rid of the *.0\n",
    "df['pitcher'] = df['pitcher'].astype(str)\n",
    "df['batter'] = df['batter'].astype(int) # to get rid of the *.0\n",
    "df['batter'] = df['batter'].astype(str)\n",
    "\n",
    "# switch from catcher's perspective to pitcher's perspective\n",
    "# Catcher's POV: (plate_x,plate_z)\n",
    "# Pitcher's POV: (plate_-x,plate_z)\n",
    "df['plate_-x'] = -df['plate_x']\n",
    "\n",
    "# create unique pitch_id\n",
    "df['pitch_id'] = df['game_pk'] + \" \" + df['sv_id']\n",
    "\n",
    "# show data \n",
    "#df.head()\n",
    "#list(df.columns.values)"
   ]
  },
  {
   "cell_type": "code",
   "execution_count": 4,
   "metadata": {
    "colab": {
     "base_uri": "https://localhost:8080/",
     "height": 474
    },
    "colab_type": "code",
    "id": "A3Df6y9jGCOe",
    "outputId": "ede1bbca-4fce-41d0-b6de-6de4f5484547"
   },
   "outputs": [
    {
     "data": {
      "text/plain": [
       "game_pk           object\n",
       "sv_id             object\n",
       "pitch_id          object\n",
       "batter            object\n",
       "stand             object\n",
       "pitcher            int64\n",
       "pitch_type        object\n",
       "release_speed    float64\n",
       "description       object\n",
       "events            object\n",
       "plate_x          float64\n",
       "plate_-x         float64\n",
       "plate_z          float64\n",
       "sz_top           float64\n",
       "sz_bot           float64\n",
       "dtype: object"
      ]
     },
     "execution_count": 4,
     "metadata": {},
     "output_type": "execute_result"
    }
   ],
   "source": [
    "# make new dataframe with less info\n",
    "df_pitch_coords = df[['game_pk','sv_id','pitch_id','batter','stand','pitcher','pitch_type','release_speed',\n",
    "                      'description','events','plate_x','plate_-x','plate_z', 'sz_top','sz_bot']]\n",
    "\n",
    "## TODO clean up by eliminating non-swing hits?\n",
    "\n",
    "df_pitch_coords.head(10)\n",
    "df_pitch_coords.dtypes"
   ]
  },
  {
   "cell_type": "code",
   "execution_count": 5,
   "metadata": {},
   "outputs": [
    {
     "name": "stdout",
     "output_type": "stream",
     "text": [
      "Left Hitters\n",
      "{'592885', '641355'}\n",
      "\n",
      "Right Hitters\n",
      "{'641313', '660670', '593160', '545361'}\n",
      "\n",
      "Switch Hitters\n",
      "set()\n"
     ]
    }
   ],
   "source": [
    "# sets of unique batter ids\n",
    "left_hitters = set()\n",
    "right_hitters = set()\n",
    "for row in range(df_pitch_coords.shape[0]):\n",
    "    batter_id = df_pitch_coords.iloc[row]['batter']\n",
    "    batter_stand = df_pitch_coords.iloc[row]['stand']\n",
    "    \n",
    "    if batter_stand == 'L':\n",
    "        #if batter_id not in left_hitters:\n",
    "        left_hitters.add(batter_id)\n",
    "    if batter_stand == 'R':\n",
    "        #if batter_id not in right_hitters:\n",
    "        right_hitters.add(batter_id)\n",
    "\n",
    "switch_hitters = left_hitters & right_hitters\n",
    "\n",
    "print(\"Left Hitters\")\n",
    "print(left_hitters)\n",
    "print()\n",
    "print(\"Right Hitters\")\n",
    "print(right_hitters)\n",
    "print()\n",
    "print(\"Switch Hitters\")\n",
    "print(switch_hitters)"
   ]
  },
  {
   "cell_type": "markdown",
   "metadata": {
    "colab_type": "text",
    "id": "4MgfbgGhqC9X"
   },
   "source": [
    "### Show all pitches in scatter plot "
   ]
  },
  {
   "cell_type": "code",
   "execution_count": 6,
   "metadata": {
    "colab": {
     "base_uri": "https://localhost:8080/",
     "height": 314
    },
    "colab_type": "code",
    "id": "C0oXTOd6LqQa",
    "outputId": "e0a2cecb-fe2e-44a6-f154-36baff8084b3"
   },
   "outputs": [
    {
     "data": {
      "text/plain": [
       "<matplotlib.axes._subplots.AxesSubplot at 0x117409e20>"
      ]
     },
     "execution_count": 6,
     "metadata": {},
     "output_type": "execute_result"
    },
    {
     "data": {
      "image/png": "[encoded data removed]",
      "text/plain": [
       "<Figure size 432x288 with 1 Axes>"
      ]
     },
     "metadata": {
      "needs_background": "light"
     },
     "output_type": "display_data"
    }
   ],
   "source": [
    "all_pitches_plot = df_pitch_coords.plot(kind='scatter', x='plate_-x', y='plate_z',\n",
    "                           title='plate coordinates from catcher perspective')\n",
    "# center of plate at ground = (0,0)\n",
    "\n",
    "all_pitches_plot"
   ]
  },
  {
   "cell_type": "markdown",
   "metadata": {
    "colab_type": "text",
    "id": "5tG8GulY8MOV"
   },
   "source": [
    "### Calculate what zone a pitch falls into"
   ]
  },
  {
   "cell_type": "code",
   "execution_count": 7,
   "metadata": {},
   "outputs": [],
   "source": [
    "def det_batter_zone(x,z,sz_top,sz_bot):\n",
    "    sz_mid = ((sz_top - sz_bot)/2) + sz_bot\n",
    "    sz_third = (sz_top - sz_bot)/3\n",
    "    # non-competitive pitches\n",
    "    if (z < 1) or (z > 4) or (x < -1.5) or (x > 1.5):\n",
    "        return 0 \n",
    "    # inner strikezone (1-9)\n",
    "    elif (sz_bot <= z) and (z <= sz_top) and (-0.7 <= x) and (x <= 0.7):\n",
    "        if (sz_top >= z) and (z > (sz_top-sz_third)):\n",
    "            if (x <= -0.23):\n",
    "                return 1\n",
    "            elif (x <= 0.23):\n",
    "                return 2\n",
    "            elif (x <= 0.7):\n",
    "                  return 3\n",
    "        elif ((sz_top-sz_third) >= z) and (z > (sz_bot+sz_third)):\n",
    "            if (x <= -0.23):\n",
    "                return 4\n",
    "            elif (x <= 0.23):\n",
    "                return 5\n",
    "            elif (x <= 0.7):\n",
    "                return 6\n",
    "        elif ((sz_bot+sz_third) >= z) and (z >= sz_bot):\n",
    "            if (x <= -0.23):\n",
    "                return 7\n",
    "            elif (x <= 0.23):\n",
    "                return 8\n",
    "            elif (x <= 0.7):\n",
    "                return 9\n",
    "    # outer strike zone\n",
    "    # top row (10-13)\n",
    "    elif (sz_top < z) and (z <= 4) and (-1.5 <= x) and (x <= 1.5):\n",
    "        if (x <= -0.7):\n",
    "            return 10\n",
    "        elif (x <= 0):\n",
    "            return 11\n",
    "        elif (x <= 0.7):\n",
    "            return 12\n",
    "        elif (x <= 1.5):\n",
    "            return 13\n",
    "    # top middle row (14,15)\n",
    "    elif (sz_mid < z) and (z <= sz_top):\n",
    "        if (-1.5 <= x) and (-0.7 > x):\n",
    "            return 14\n",
    "        elif (0.7 < x) and (x <= 1.5):\n",
    "            return 15\n",
    "    # bottom middle row (16,17)\n",
    "    elif (sz_bot < z) and (z <= sz_mid):\n",
    "        if (-1.5 <= x) and (-0.7 > x):\n",
    "            return 16\n",
    "        elif (0.7 < x) and (x <= 1.5):\n",
    "            return 17\n",
    "    # bottom row (18-21)\n",
    "    elif (1 <= z) and (z <= sz_bot) and (-1.5 <= x) and (x <= 1.5):\n",
    "        if (x <= -0.7):\n",
    "            return 18\n",
    "        elif (x <= 0):\n",
    "            return 19\n",
    "        elif (x <= 0.7):\n",
    "            return 20\n",
    "        elif (x <= 1.5):\n",
    "            return 21\n",
    "    # null or invalid\n",
    "    return -1 "
   ]
  },
  {
   "cell_type": "markdown",
   "metadata": {
    "colab_type": "text",
    "id": "XnxzUbF78bIB"
   },
   "source": [
    "### Measure success of pitch type per zone per batter "
   ]
  },
  {
   "cell_type": "markdown",
   "metadata": {},
   "source": [
    "* batters is dictionary that maps batter id to zones list\n",
    "    * zones is list that maps zone num (index) to pitch_types dictionary\n",
    "        * pitch_types is dictionary that maps type of pitch to counters for hits, fouls, strikes, and total pitches"
   ]
  },
  {
   "cell_type": "code",
   "execution_count": 8,
   "metadata": {
    "colab": {
     "base_uri": "https://localhost:8080/",
     "height": 74
    },
    "colab_type": "code",
    "id": "KZ3cHIKjFeHa",
    "outputId": "11d30b9e-a283-4bc8-e49a-f42264bd989b"
   },
   "outputs": [],
   "source": [
    "batters = {}\n",
    "for row in range(df_pitch_coords.shape[0]):\n",
    "    pitch_zone = det_batter_zone(df_pitch_coords.iloc[row]['plate_-x'],\n",
    "                          df_pitch_coords.iloc[row]['plate_z'],\n",
    "                          df_pitch_coords.iloc[row]['sz_top'],\n",
    "                          df_pitch_coords.iloc[row]['sz_bot'])\n",
    "  \n",
    "    if (pitch_zone != -1): # don't include null or invalid pitches in zone -1\n",
    "        batter_id = df_pitch_coords.iloc[row]['batter']\n",
    "        pitch_type = df_pitch_coords.iloc[row]['pitch_type']\n",
    "        pitch_event = df_pitch_coords.iloc[row]['events']\n",
    "        pitch_result = df_pitch_coords.iloc[row]['description']\n",
    "        pitch_speed = df_pitch_coords.iloc[row]['release_speed']\n",
    "\n",
    "        # initialize new batter\n",
    "        if batter_id not in batters:\n",
    "            batters[batter_id] = [] # init empty zones list\n",
    "            for z in range(22): # 22 zones (0: noncompetitive, 1-21: strikezone)\n",
    "                pitch_types = {}\n",
    "                batters[batter_id].insert(z, pitch_types)\n",
    "        # initialize new pitch_type \n",
    "        if pitch_type not in batters[batter_id][pitch_zone]:\n",
    "            batters[batter_id][pitch_zone][pitch_type] = [] #todo: maybe dict?\n",
    "            for c in range(5): # num of counters\n",
    "                if c == 0:\n",
    "                    batters[batter_id][pitch_zone][pitch_type].insert(c, 0)\n",
    "                else:\n",
    "                    batters[batter_id][pitch_zone][pitch_type].insert(c, [0, 0])\n",
    "\n",
    "        # Add to counters:\n",
    "        \n",
    "        # swing and miss\n",
    "        if pitch_result in ('swinging_strike', 'swinging_strike_blocked'):\n",
    "            batters[batter_id][pitch_zone][pitch_type][0] += 1 # total\n",
    "            batters[batter_id][pitch_zone][pitch_type][1][0] += 1 # total misses\n",
    "            batters[batter_id][pitch_zone][pitch_type][1][1] += pitch_speed\n",
    "        # swing and foul\n",
    "        elif pitch_result in ('foul', 'foul_tip'): # foul (runner going) ???\n",
    "            batters[batter_id][pitch_zone][pitch_type][0] += 1 # total\n",
    "            batters[batter_id][pitch_zone][pitch_type][2][0] += 1 # total fouls\n",
    "            batters[batter_id][pitch_zone][pitch_type][2][1] += pitch_speed\n",
    "         # swing and hit\n",
    "        elif pitch_result in ('hit_into_play', 'hit_into_play_no_out', 'hit_into_play_score'):\n",
    "            # made contact and obtained a hit\n",
    "            if pitch_event in ('single', 'double', 'triple', 'home_run'):\n",
    "                batters[batter_id][pitch_zone][pitch_type][0] += 1 # total\n",
    "                batters[batter_id][pitch_zone][pitch_type][3][0] += 1 # total contact to hit\n",
    "                batters[batter_id][pitch_zone][pitch_type][3][1] += pitch_speed\n",
    "            # made contact and obtained an out\n",
    "            elif pitch_event not in ('single', 'double', 'triple', 'home_run'):\n",
    "                batters[batter_id][pitch_zone][pitch_type][0] += 1 # total\n",
    "                batters[batter_id][pitch_zone][pitch_type][4][0] += 1 # total contact to out\n",
    "                batters[batter_id][pitch_zone][pitch_type][4][1] += pitch_speed\n",
    "        # else: # batter didn't swing"
   ]
  },
  {
   "cell_type": "code",
   "execution_count": 9,
   "metadata": {},
   "outputs": [],
   "source": [
    "def get_color_speed(pitch_count_list):\n",
    "    # total is when batter swung\n",
    "    total = pitch_count_list[0]\n",
    "    # misses\n",
    "    num_misses = pitch_count_list[1][0]\n",
    "    sum_speed_misses = pitch_count_list[1][1]\n",
    "    # fouls\n",
    "    num_fouls = pitch_count_list[2][0]\n",
    "    sum_speed_fouls = pitch_count_list[2][1]\n",
    "    # contact to hits\n",
    "    num_contact_to_hits = pitch_count_list[3][0]\n",
    "    sum_speed_hits = pitch_count_list[3][1]\n",
    "    # contact to outs\n",
    "    num_contact_to_outs = pitch_count_list[4][0]\n",
    "    sum_speed_outs = pitch_count_list[4][1]\n",
    "    \n",
    "    color = None\n",
    "    speed = None\n",
    "    if total > 5:\n",
    "        if (num_contact_to_hits / total) > 0.33:\n",
    "            color = \"red\"\n",
    "            speed = sum_speed_hits // num_contact_to_hits\n",
    "            int(speed)\n",
    "        elif((num_fouls + num_misses) / total) > 0.8:\n",
    "            color = \"green\"\n",
    "            speed = (sum_speed_fouls + sum_speed_misses) // (num_fouls + num_misses)\n",
    "            int(speed)\n",
    "        elif((num_contact_to_outs + num_fouls + num_misses) / total) > 0.75:\n",
    "            color = \"yellow\"\n",
    "            speed = (sum_speed_outs + sum_speed_fouls + sum_speed_misses) // (num_contact_to_outs + num_fouls + num_misses)\n",
    "            int(speed)\n",
    "    return (color, speed)"
   ]
  },
  {
   "cell_type": "code",
   "execution_count": 10,
   "metadata": {
    "scrolled": true
   },
   "outputs": [
    {
     "name": "stdout",
     "output_type": "stream",
     "text": [
      "{'641355': [{'FF': [16, [9, 838.2], [6, 568.8000000000001], [0, 0], [1, 94.2]], 'CH': [7, [6, 499.3], [1, 84.4], [0, 0], [0, 0]], 'FT': [1, [0, 0], [1, 95.2], [0, 0], [0, 0]], 'KC': [1, [1, 82.2], [0, 0], [0, 0], [0, 0]], 'CU': [3, [3, 249.1], [0, 0], [0, 0], [0, 0]], 'SL': [6, [5, 426.59999999999997], [1, 84.7], [0, 0], [0, 0]], 'FC': [3, [1, 89.2], [2, 175.9], [0, 0], [0, 0]], 'SI': [0, [0, 0], [0, 0], [0, 0], [0, 0]], 'FS': [0, [0, 0], [0, 0], [0, 0], [0, 0]], 'KN': [0, [0, 0], [0, 0], [0, 0], [0, 0]]}, {'FT': [4, [0, 0], [2, 187.3], [1, 95.5], [1, 93.6]], 'SI': [4, [1, 95.3], [2, 186.7], [1, 91.7], [0, 0]], 'FF': [36, [6, 563.5999999999999], [21, 1942.2000000000003], [3, 249.9], [6, 551.6]], 'CU': [0, [0, 0], [0, 0], [0, 0], [0, 0]], 'FC': [4, [0, 0], [1, 83.6], [0, 0], [3, 268.4]], 'SL': [2, [1, 84.8], [0, 0], [0, 0], [1, 85.1]], 'CH': [1, [0, 0], [1, 85.4], [0, 0], [0, 0]], 'KC': [0, [0, 0], [0, 0], [0, 0], [0, 0]]}, {'CU': [2, [1, 86.2], [0, 0], [0, 0], [1, 81.3]], 'FT': [1, [0, 0], [1, 95.2], [0, 0], [0, 0]], 'FF': [44, [13, 1214.1000000000001], [15, 1428.1000000000001], [5, 472.5], [11, 1030.1]], 'SL': [4, [1, 83.6], [2, 162.60000000000002], [0, 0], [1, 89.8]], 'FC': [1, [0, 0], [0, 0], [0, 0], [1, 88.1]], 'CH': [0, [0, 0], [0, 0], [0, 0], [0, 0]], 'SI': [2, [0, 0], [2, 178.9], [0, 0], [0, 0]], 'KC': [0, [0, 0], [0, 0], [0, 0], [0, 0]]}, {'FF': [42, [12, 1148.1000000000001], [20, 1871.8000000000004], [4, 373.30000000000007], [6, 532.4]], 'CH': [2, [0, 0], [0, 0], [1, 82.1], [1, 85.9]], 'SI': [2, [1, 97.7], [1, 93.0], [0, 0], [0, 0]], 'SL': [2, [0, 0], [2, 167.0], [0, 0], [0, 0]], 'FC': [3, [2, 183.60000000000002], [1, 87.7], [0, 0], [0, 0]], 'FT': [1, [0, 0], [0, 0], [1, 92.2], [0, 0]], 'CU': [0, [0, 0], [0, 0], [0, 0], [0, 0]], 'KC': [0, [0, 0], [0, 0], [0, 0], [0, 0]], 'FS': [0, [0, 0], [0, 0], [0, 0], [0, 0]]}, {'FT': [3, [1, 96.0], [1, 90.8], [1, 96.1], [0, 0]], 'SL': [8, [1, 88.6], [3, 256.7], [1, 92.5], [3, 263.20000000000005]], 'CH': [5, [0, 0], [1, 87.9], [1, 86.7], [3, 246.0]], 'FF': [36, [2, 190.2], [15, 1401.2], [8, 754.6999999999999], [11, 1041.4]], 'SI': [14, [2, 187.9], [6, 548.4000000000001], [3, 270.3], [3, 282.8]], 'FC': [7, [0, 0], [4, 357.0], [1, 91.2], [2, 173.6]], 'KC': [2, [1, 83.1], [0, 0], [1, 80.3], [0, 0]]}, {'FF': [59, [10, 946.9], [19, 1792.3], [11, 1022.0], [19, 1755.6000000000001]], 'SL': [10, [1, 84.2], [5, 432.9], [2, 166.10000000000002], [2, 168.1]], 'CH': [6, [1, 86.9], [3, 260.5], [0, 0], [2, 177.3]], 'FT': [8, [1, 91.8], [4, 373.59999999999997], [2, 185.60000000000002], [1, 89.4]], 'CU': [5, [0, 0], [3, 240.2], [1, 78.3], [1, 80.2]], 'SI': [11, [1, 90.6], [5, 465.6], [2, 178.5], [3, 278.5]], 'FC': [3, [1, 88.3], [1, 89.6], [1, 92.0], [0, 0]], 'KC': [1, [0, 0], [0, 0], [0, 0], [1, 84.3]]}, {'SL': [13, [2, 172.1], [4, 343.5], [5, 426.79999999999995], [2, 166.39999999999998]], 'SI': [4, [1, 98.2], [2, 178.2], [0, 0], [1, 94.4]], 'FF': [46, [8, 758.3], [24, 2262.2], [7, 642.4], [7, 648.4]], 'FC': [5, [1, 83.5], [1, 90.1], [1, 86.3], [2, 176.0]], 'CH': [12, [1, 84.6], [1, 89.1], [4, 352.1], [6, 524.7]], 'FT': [7, [1, 95.3], [5, 465.4], [1, 92.2], [0, 0]], 'CU': [2, [0, 0], [1, 85.5], [0, 0], [1, 81.9]], 'KC': [2, [0, 0], [1, 84.0], [1, 81.9], [0, 0]], 'FS': [3, [1, 87.0], [1, 89.0], [0, 0], [1, 86.2]]}, {'SL': [14, [2, 165.5], [8, 689.0000000000001], [2, 168.9], [2, 172.1]], 'SI': [5, [0, 0], [3, 277.7], [0, 0], [2, 189.5]], 'CH': [9, [4, 333.5], [3, 256.0], [1, 85.2], [1, 82.8]], 'CU': [8, [0, 0], [6, 491.0], [1, 82.8], [1, 67.1]], 'FF': [19, [0, 0], [8, 754.3], [5, 465.29999999999995], [6, 566.6]], 'FS': [1, [0, 0], [1, 85.2], [0, 0], [0, 0]], 'FC': [4, [0, 0], [3, 263.7], [1, 90.4], [0, 0]], 'FT': [7, [1, 92.9], [2, 184.7], [1, 91.8], [3, 277.0]], 'KN': [1, [0, 0], [0, 0], [1, 76.5], [0, 0]], 'KC': [2, [0, 0], [1, 82.1], [0, 0], [1, 83.0]]}, {'FF': [23, [1, 93.4], [10, 938.4000000000001], [5, 455.79999999999995], [7, 649.7]], 'CH': [12, [4, 339.6], [2, 179.1], [2, 173.60000000000002], [4, 344.4]], 'FT': [11, [1, 91.7], [6, 563.4], [1, 95.0], [3, 281.70000000000005]], 'SI': [12, [0, 0], [5, 452.1], [2, 187.10000000000002], [5, 460.4]], 'SL': [20, [7, 598.0], [4, 332.70000000000005], [4, 338.4], [5, 422.90000000000003]], 'FC': [5, [0, 0], [4, 347.6], [1, 90.6], [0, 0]], 'KC': [5, [1, 80.0], [2, 154.60000000000002], [2, 160.9], [0, 0]], 'CU': [3, [0, 0], [2, 154.7], [1, 74.0], [0, 0]], 'FS': [5, [2, 165.1], [1, 83.9], [1, 86.5], [1, 85.3]]}, {'CU': [4, [1, 75.7], [0, 0], [0, 0], [3, 246.0]], 'SL': [25, [3, 256.6], [8, 676.5999999999999], [4, 344.9], [10, 835.5]], 'CH': [25, [10, 860.0999999999999], [5, 433.3], [2, 169.89999999999998], [8, 686.5999999999999]], 'FF': [33, [3, 284.2], [17, 1606.2], [3, 284.9], [10, 942.1]], 'FC': [6, [0, 0], [1, 93.5], [0, 0], [5, 440.7]], 'FT': [9, [1, 94.8], [6, 560.0], [0, 0], [2, 189.60000000000002]], 'SI': [4, [0, 0], [4, 366.79999999999995], [0, 0], [0, 0]], 'KC': [2, [1, 82.4], [0, 0], [1, 81.3], [0, 0]], 'FS': [3, [1, 82.9], [2, 171.7], [0, 0], [0, 0]]}, {'FF': [1, [0, 0], [1, 92.0], [0, 0], [0, 0]]}, {'FF': [8, [3, 280.1], [2, 185.39999999999998], [1, 92.4], [2, 187.7]], 'CH': [1, [0, 0], [1, 80.9], [0, 0], [0, 0]], 'FC': [0, [0, 0], [0, 0], [0, 0], [0, 0]]}, {'FF': [9, [3, 280.90000000000003], [3, 282.9], [3, 277.6], [0, 0]], 'CU': [1, [0, 0], [1, 82.8], [0, 0], [0, 0]], 'CH': [0, [0, 0], [0, 0], [0, 0], [0, 0]], 'FT': [1, [0, 0], [0, 0], [1, 93.7], [0, 0]], 'SL': [1, [1, 87.1], [0, 0], [0, 0], [0, 0]]}, {'FT': [1, [0, 0], [1, 95.2], [0, 0], [0, 0]], 'CH': [0, [0, 0], [0, 0], [0, 0], [0, 0]], 'FF': [3, [1, 94.4], [2, 185.3], [0, 0], [0, 0]]}, {'FF': [12, [2, 184.60000000000002], [5, 463.1], [2, 185.8], [3, 282.70000000000005]], 'SL': [0, [0, 0], [0, 0], [0, 0], [0, 0]], 'FC': [1, [0, 0], [1, 86.6], [0, 0], [0, 0]], 'FT': [3, [0, 0], [1, 89.4], [0, 0], [2, 174.6]], 'CH': [0, [0, 0], [0, 0], [0, 0], [0, 0]], 'SI': [1, [0, 0], [0, 0], [1, 92.3], [0, 0]], 'CU': [0, [0, 0], [0, 0], [0, 0], [0, 0]], 'KC': [0, [0, 0], [0, 0], [0, 0], [0, 0]]}, {'FT': [10, [2, 194.2], [2, 188.3], [1, 86.7], [5, 468.90000000000003]], 'SL': [7, [1, 83.7], [2, 171.2], [1, 90.5], [3, 253.6]], 'FF': [30, [7, 668.1], [15, 1379.8], [5, 470.0], [3, 283.90000000000003]], 'CH': [8, [1, 77.6], [3, 251.5], [3, 252.6], [1, 80.1]], 'SI': [4, [1, 95.8], [2, 190.3], [1, 88.6], [0, 0]], 'FC': [1, [0, 0], [1, 84.8], [0, 0], [0, 0]], 'KC': [0, [0, 0], [0, 0], [0, 0], [0, 0]], 'CU': [3, [0, 0], [0, 0], [0, 0], [3, 246.9]], 'FS': [0, [0, 0], [0, 0], [0, 0], [0, 0]]}, {'SI': [10, [0, 0], [6, 543.8], [2, 184.60000000000002], [2, 179.8]], 'SL': [7, [0, 0], [4, 336.5], [0, 0], [3, 261.3]], 'FF': [10, [0, 0], [6, 556.6], [2, 191.4], [2, 184.0]], 'CU': [2, [0, 0], [2, 165.10000000000002], [0, 0], [0, 0]], 'FC': [8, [0, 0], [7, 620.6], [0, 0], [1, 92.6]], 'FT': [5, [0, 0], [2, 190.6], [1, 90.9], [2, 185.10000000000002]], 'CH': [4, [2, 176.89999999999998], [1, 79.2], [0, 0], [1, 85.1]], 'KC': [0, [0, 0], [0, 0], [0, 0], [0, 0]]}, {'FF': [28, [7, 668.6], [8, 739.5999999999999], [5, 464.2], [8, 749.7]], 'SL': [14, [2, 171.2], [5, 407.40000000000003], [0, 0], [7, 572.5]], 'CH': [28, [8, 680.4], [5, 433.8], [3, 252.7], [12, 1040.8]], 'CU': [7, [0, 0], [1, 78.2], [0, 0], [6, 470.70000000000005]], 'FT': [16, [4, 374.4], [8, 741.0], [3, 278.5], [1, 95.8]], 'FC': [9, [3, 261.8], [3, 266.9], [1, 87.4], [2, 179.10000000000002]], 'SI': [8, [2, 190.8], [2, 190.2], [3, 277.0], [1, 92.0]], 'KC': [0, [0, 0], [0, 0], [0, 0], [0, 0]], 'FS': [2, [0, 0], [1, 85.3], [1, 85.5], [0, 0]]}, {'CH': [1, [0, 0], [1, 83.0], [0, 0], [0, 0]], 'CU': [1, [1, 83.5], [0, 0], [0, 0], [0, 0]], 'FF': [0, [0, 0], [0, 0], [0, 0], [0, 0]], 'FC': [0, [0, 0], [0, 0], [0, 0], [0, 0]], 'SI': [2, [2, 181.2], [0, 0], [0, 0], [0, 0]], 'FT': [1, [0, 0], [0, 0], [0, 0], [1, 91.5]], 'SL': [4, [2, 168.10000000000002], [2, 175.0], [0, 0], [0, 0]], 'KC': [0, [0, 0], [0, 0], [0, 0], [0, 0]]}, {'SI': [2, [0, 0], [1, 94.2], [0, 0], [1, 90.4]], 'CU': [7, [3, 243.60000000000002], [3, 235.8], [0, 0], [1, 80.9]], 'FF': [6, [1, 93.1], [1, 91.1], [2, 192.5], [2, 196.5]], 'SL': [8, [3, 250.6], [4, 344.70000000000005], [1, 83.4], [0, 0]], 'CH': [11, [6, 507.50000000000006], [5, 423.1], [0, 0], [0, 0]], 'FC': [5, [2, 174.9], [1, 89.7], [1, 88.4], [1, 88.3]], 'KC': [2, [2, 164.5], [0, 0], [0, 0], [0, 0]], 'FT': [1, [0, 0], [0, 0], [1, 93.0], [0, 0]], 'FS': [3, [1, 87.4], [2, 169.7], [0, 0], [0, 0]]}, {'FF': [8, [0, 0], [3, 279.1], [2, 181.0], [3, 280.2]], 'CH': [30, [10, 865.3], [11, 946.1999999999999], [5, 425.00000000000006], [4, 347.5]], 'SL': [15, [7, 587.6], [5, 418.90000000000003], [0, 0], [3, 253.5]], 'FS': [10, [6, 510.9000000000001], [3, 254.8], [0, 0], [1, 86.0]], 'FC': [2, [1, 85.5], [1, 88.0], [0, 0], [0, 0]], 'KC': [1, [0, 0], [0, 0], [0, 0], [1, 79.2]], 'FT': [3, [0, 0], [0, 0], [0, 0], [3, 285.0]], 'SI': [8, [0, 0], [4, 363.6], [3, 275.0], [1, 88.9]], 'CU': [9, [4, 316.5], [5, 407.0], [0, 0], [0, 0]]}, {'SL': [10, [8, 678.9], [2, 169.60000000000002], [0, 0], [0, 0]], 'FF': [2, [0, 0], [1, 92.7], [0, 0], [1, 95.5]], 'CH': [10, [4, 346.1], [3, 247.5], [1, 79.5], [2, 177.2]], 'FT': [2, [0, 0], [2, 188.0], [0, 0], [0, 0]], 'CU': [2, [0, 0], [2, 155.4], [0, 0], [0, 0]], 'FC': [4, [4, 350.7], [0, 0], [0, 0], [0, 0]], 'KC': [1, [0, 0], [0, 0], [0, 0], [1, 80.2]], 'SI': [1, [0, 0], [0, 0], [0, 0], [1, 91.0]], 'FS': [8, [1, 84.8], [3, 253.20000000000002], [2, 170.0], [2, 170.6]]}], '593160': [{'CH': [8, [3, 252.0], [4, 350.3], [0, 0], [1, 82.2]], 'FF': [3, [2, 192.6], [1, 95.4], [0, 0], [0, 0]], 'SL': [25, [22, 1855.2999999999997], [2, 161.10000000000002], [1, 85.4], [0, 0]], 'CU': [6, [6, 487.1], [0, 0], [0, 0], [0, 0]], 'FC': [5, [4, 351.2], [1, 84.0], [0, 0], [0, 0]], 'FS': [1, [1, 85.0], [0, 0], [0, 0], [0, 0]], 'SI': [3, [2, 181.4], [0, 0], [0, 0], [1, 94.0]], 'KC': [0, [0, 0], [0, 0], [0, 0], [0, 0]], 'FT': [1, [0, 0], [1, 95.7], [0, 0], [0, 0]]}, {'FF': [43, [7, 657.7], [24, 2231.8], [2, 190.2], [10, 910.7999999999998]], 'FC': [2, [0, 0], [0, 0], [1, 92.5], [1, 85.9]], 'SI': [10, [2, 179.8], [3, 281.5], [3, 269.9], [2, 180.7]], 'SL': [8, [1, 81.3], [4, 338.3], [0, 0], [3, 256.0]], 'CH': [5, [0, 0], [2, 162.5], [1, 81.4], [2, 168.6]], 'FT': [6, [1, 92.7], [4, 368.00000000000006], [1, 91.0], [0, 0]], 'CU': [3, [0, 0], [0, 0], [0, 0], [3, 240.1]]}, {'FF': [43, [7, 652.3], [24, 2255.6999999999994], [4, 375.29999999999995], [8, 756.4]], 'FC': [7, [1, 86.8], [6, 531.1], [0, 0], [0, 0]], 'FT': [5, [2, 188.6], [3, 285.4], [0, 0], [0, 0]], 'CH': [3, [0, 0], [2, 167.9], [1, 83.6], [0, 0]], 'SL': [14, [4, 343.0], [3, 253.4], [1, 83.7], [6, 506.79999999999995]], 'CU': [2, [0, 0], [0, 0], [1, 79.7], [1, 79.0]], 'SI': [4, [0, 0], [2, 188.0], [1, 96.0], [1, 83.2]]}, {'FF': [39, [2, 182.3], [23, 2144.8], [6, 561.4], [8, 746.1999999999999]], 'CU': [3, [0, 0], [1, 76.0], [2, 161.0], [0, 0]], 'FT': [9, [1, 93.6], [2, 185.1], [2, 182.9], [4, 379.1]], 'SL': [7, [0, 0], [3, 251.6], [0, 0], [4, 341.20000000000005]], 'FC': [2, [0, 0], [1, 88.3], [0, 0], [1, 89.3]], 'KC': [1, [0, 0], [0, 0], [1, 78.1], [0, 0]], 'CH': [1, [0, 0], [0, 0], [1, 83.3], [0, 0]], 'SI': [3, [0, 0], [1, 88.3], [0, 0], [2, 174.0]]}, {'CU': [5, [1, 76.3], [1, 83.0], [2, 164.1], [1, 81.8]], 'FT': [4, [0, 0], [2, 183.9], [0, 0], [2, 187.7]], 'SL': [25, [5, 426.09999999999997], [10, 856.1000000000001], [3, 256.5], [7, 607.4]], 'SI': [8, [0, 0], [1, 95.6], [3, 273.7], [4, 366.3]], 'FF': [44, [12, 1130.8000000000002], [18, 1700.8999999999999], [7, 652.2], [7, 658.7]], 'CH': [8, [2, 162.60000000000002], [2, 165.9], [2, 171.8], [2, 171.2]], 'FS': [1, [0, 0], [0, 0], [1, 91.4], [0, 0]], 'FC': [1, [0, 0], [0, 0], [1, 89.0], [0, 0]], 'KC': [2, [0, 0], [1, 81.0], [1, 79.9], [0, 0]]}, {'SL': [19, [2, 160.4], [9, 765.2], [1, 80.6], [7, 591.9]], 'FF': [47, [2, 186.0], [22, 2060.2999999999997], [8, 741.6999999999999], [15, 1396.9000000000003]], 'CU': [4, [1, 77.3], [2, 154.8], [0, 0], [1, 71.4]], 'FT': [9, [0, 0], [4, 369.9], [2, 183.1], [3, 278.1]], 'SI': [10, [0, 0], [5, 462.69999999999993], [1, 95.0], [4, 369.79999999999995]], 'KC': [0, [0, 0], [0, 0], [0, 0], [0, 0]], 'CH': [5, [1, 86.4], [2, 172.3], [1, 78.7], [1, 80.8]], 'FC': [3, [1, 89.4], [1, 89.9], [1, 88.5], [0, 0]]}, {'CU': [2, [0, 0], [1, 71.9], [1, 73.2], [0, 0]], 'SL': [14, [0, 0], [5, 417.20000000000005], [3, 246.3], [6, 501.5]], 'FF': [36, [1, 95.1], [13, 1216.4], [10, 927.3000000000001], [12, 1104.8]], 'FT': [16, [0, 0], [4, 364.29999999999995], [4, 370.09999999999997], [8, 737.5999999999999]], 'FC': [3, [0, 0], [0, 0], [1, 87.3], [2, 175.6]], 'CH': [7, [3, 250.2], [3, 252.4], [0, 0], [1, 81.8]], 'SI': [5, [0, 0], [2, 180.5], [2, 183.8], [1, 91.3]], 'FS': [1, [0, 0], [0, 0], [0, 0], [1, 87.6]]}, {'FT': [2, [0, 0], [0, 0], [0, 0], [2, 188.39999999999998]], 'SL': [45, [8, 677.7], [17, 1452.3999999999999], [6, 513.2], [14, 1196.2]], 'CH': [14, [6, 513.4], [2, 164.9], [1, 84.7], [5, 414.09999999999997]], 'SI': [5, [1, 88.4], [3, 287.6], [0, 0], [1, 86.8]], 'FF': [28, [4, 372.4], [10, 936.1000000000001], [6, 559.4], [8, 746.3000000000001]], 'FC': [10, [1, 88.6], [5, 437.99999999999994], [0, 0], [4, 355.29999999999995]], 'CU': [6, [2, 146.5], [1, 83.7], [1, 81.7], [2, 150.60000000000002]], 'KC': [1, [0, 0], [0, 0], [1, 82.4], [0, 0]]}, {'SL': [25, [3, 251.8], [11, 925.1], [2, 173.8], [9, 757.4]], 'FF': [27, [2, 185.39999999999998], [10, 926.4999999999999], [5, 471.1], [10, 931.8000000000001]], 'CH': [16, [1, 85.8], [6, 494.2], [2, 166.7], [7, 590.1]], 'CU': [8, [2, 158.2], [2, 158.8], [0, 0], [4, 310.5]], 'FS': [2, [1, 85.2], [1, 81.1], [0, 0], [0, 0]], 'FT': [13, [1, 88.7], [5, 459.2], [3, 278.5], [4, 373.6]], 'SI': [6, [0, 0], [3, 282.3], [0, 0], [3, 281.20000000000005]], 'FC': [7, [0, 0], [3, 263.8], [2, 176.2], [2, 177.89999999999998]], 'KC': [1, [0, 0], [0, 0], [0, 0], [1, 82.0]]}, {'FT': [9, [0, 0], [3, 280.79999999999995], [3, 278.1], [3, 281.7]], 'CU': [5, [1, 76.1], [3, 232.60000000000002], [1, 78.5], [0, 0]], 'SL': [10, [3, 243.5], [4, 331.4], [2, 166.5], [1, 86.1]], 'FF': [15, [2, 185.7], [4, 379.0], [4, 367.7], [5, 472.4]], 'CH': [11, [2, 168.7], [5, 416.29999999999995], [1, 85.7], [3, 253.8]], 'SI': [8, [0, 0], [1, 90.6], [2, 183.9], [5, 467.7]], 'FC': [2, [0, 0], [1, 90.7], [0, 0], [1, 88.8]], 'FS': [1, [0, 0], [1, 87.6], [0, 0], [0, 0]]}, {'FC': [0, [0, 0], [0, 0], [0, 0], [0, 0]], 'CU': [0, [0, 0], [0, 0], [0, 0], [0, 0]], 'CH': [0, [0, 0], [0, 0], [0, 0], [0, 0]], 'FF': [2, [1, 95.9], [0, 0], [1, 91.9], [0, 0]], 'SI': [0, [0, 0], [0, 0], [0, 0], [0, 0]], 'SL': [0, [0, 0], [0, 0], [0, 0], [0, 0]], 'FT': [0, [0, 0], [0, 0], [0, 0], [0, 0]]}, {'FC': [1, [1, 87.1], [0, 0], [0, 0], [0, 0]], 'FF': [21, [4, 378.9], [14, 1315.5], [1, 97.9], [2, 195.5]], 'CU': [1, [0, 0], [1, 77.9], [0, 0], [0, 0]], 'CH': [0, [0, 0], [0, 0], [0, 0], [0, 0]], 'FT': [1, [0, 0], [1, 95.1], [0, 0], [0, 0]], 'SL': [3, [0, 0], [2, 165.2], [0, 0], [1, 88.3]], 'SI': [1, [0, 0], [0, 0], [0, 0], [1, 89.8]]}, {'FF': [36, [8, 742.8], [20, 1860.3000000000002], [6, 565.1999999999999], [2, 186.5]], 'SL': [0, [0, 0], [0, 0], [0, 0], [0, 0]], 'FT': [3, [0, 0], [1, 92.6], [1, 91.7], [1, 94.5]], 'KC': [0, [0, 0], [0, 0], [0, 0], [0, 0]], 'CH': [0, [0, 0], [0, 0], [0, 0], [0, 0]], 'FC': [0, [0, 0], [0, 0], [0, 0], [0, 0]], 'SI': [1, [0, 0], [1, 85.6], [0, 0], [0, 0]]}, {'FC': [1, [0, 0], [1, 89.3], [0, 0], [0, 0]], 'FF': [11, [5, 476.6], [6, 554.4], [0, 0], [0, 0]], 'CH': [0, [0, 0], [0, 0], [0, 0], [0, 0]], 'FT': [1, [0, 0], [1, 93.7], [0, 0], [0, 0]], 'CU': [0, [0, 0], [0, 0], [0, 0], [0, 0]], 'SL': [0, [0, 0], [0, 0], [0, 0], [0, 0]], 'SI': [0, [0, 0], [0, 0], [0, 0], [0, 0]]}, {'CH': [6, [4, 338.1], [1, 84.1], [0, 0], [1, 83.8]], 'FC': [3, [0, 0], [1, 87.0], [1, 85.3], [1, 91.6]], 'FF': [32, [7, 661.4], [19, 1758.5000000000002], [1, 90.6], [5, 472.7]], 'FT': [2, [1, 90.1], [1, 93.2], [0, 0], [0, 0]], 'SL': [8, [1, 87.5], [5, 408.70000000000005], [0, 0], [2, 170.4]], 'CU': [0, [0, 0], [0, 0], [0, 0], [0, 0]], 'SI': [2, [1, 94.5], [0, 0], [0, 0], [1, 86.0]]}, {'FF': [32, [1, 97.6], [14, 1293.8999999999999], [9, 835.6], [8, 751.1999999999999]], 'FT': [15, [1, 95.6], [8, 737.5], [3, 274.6], [3, 281.5]], 'CH': [6, [0, 0], [3, 249.1], [0, 0], [3, 259.3]], 'SI': [9, [0, 0], [5, 457.90000000000003], [1, 96.0], [3, 275.5]], 'CU': [2, [0, 0], [2, 158.6], [0, 0], [0, 0]], 'FC': [3, [0, 0], [3, 266.4], [0, 0], [0, 0]], 'SL': [4, [1, 89.6], [2, 172.5], [1, 81.7], [0, 0]], 'KC': [0, [0, 0], [0, 0], [0, 0], [0, 0]]}, {'CH': [19, [4, 343.5], [7, 576.6], [3, 243.0], [5, 421.0]], 'FF': [27, [5, 481.70000000000005], [10, 943.0], [2, 184.89999999999998], [10, 927.6999999999999]], 'CU': [6, [1, 74.6], [2, 157.89999999999998], [0, 0], [3, 227.0]], 'FT': [3, [0, 0], [0, 0], [1, 94.1], [2, 183.6]], 'SL': [34, [12, 1032.1], [11, 946.0], [6, 494.1], [5, 417.6]], 'FC': [11, [4, 353.1], [3, 268.0], [0, 0], [4, 348.79999999999995]], 'SI': [2, [0, 0], [2, 191.9], [0, 0], [0, 0]]}, {'CH': [4, [2, 171.6], [1, 87.2], [1, 86.3], [0, 0]], 'FF': [26, [0, 0], [16, 1504.4000000000003], [4, 369.3], [6, 567.1]], 'FT': [14, [0, 0], [8, 741.1], [4, 375.40000000000003], [2, 188.1]], 'FC': [3, [0, 0], [0, 0], [2, 174.4], [1, 89.3]], 'SI': [8, [1, 95.3], [2, 187.8], [1, 92.1], [4, 367.7]], 'SL': [9, [1, 83.7], [5, 430.6], [2, 175.7], [1, 83.5]], 'CU': [4, [0, 0], [4, 312.30000000000007], [0, 0], [0, 0]]}, {'FC': [1, [0, 0], [0, 0], [0, 0], [1, 87.2]], 'CU': [1, [1, 79.3], [0, 0], [0, 0], [0, 0]], 'FT': [1, [0, 0], [0, 0], [0, 0], [1, 87.4]], 'SI': [0, [0, 0], [0, 0], [0, 0], [0, 0]], 'FF': [1, [0, 0], [1, 92.0], [0, 0], [0, 0]], 'SL': [16, [8, 698.6], [3, 256.1], [3, 246.29999999999998], [2, 164.9]], 'CH': [6, [3, 247.10000000000002], [1, 89.3], [1, 87.0], [1, 81.3]], 'KC': [2, [2, 165.5], [0, 0], [0, 0], [0, 0]]}, {'CH': [19, [10, 849.8], [3, 255.60000000000002], [3, 259.6], [3, 250.6]], 'CU': [2, [0, 0], [2, 157.3], [0, 0], [0, 0]], 'FT': [9, [2, 178.6], [1, 92.4], [3, 280.29999999999995], [3, 274.5]], 'SL': [18, [4, 332.79999999999995], [7, 591.5], [2, 165.9], [5, 424.5]], 'FF': [8, [1, 93.8], [2, 187.0], [3, 272.70000000000005], [2, 187.8]], 'SI': [5, [0, 0], [5, 464.70000000000005], [0, 0], [0, 0]], 'FC': [1, [0, 0], [1, 86.9], [0, 0], [0, 0]], 'FS': [1, [0, 0], [0, 0], [1, 82.2], [0, 0]], 'KC': [1, [0, 0], [0, 0], [0, 0], [1, 78.4]]}, {'SL': [10, [2, 172.4], [4, 331.20000000000005], [2, 174.7], [2, 152.3]], 'CH': [10, [1, 85.2], [2, 173.5], [2, 168.9], [5, 428.6]], 'SI': [5, [0, 0], [0, 0], [1, 95.5], [4, 379.6]], 'CU': [8, [3, 229.0], [2, 154.3], [2, 163.8], [1, 72.3]], 'FC': [4, [1, 87.2], [0, 0], [1, 90.7], [2, 177.39999999999998]], 'FF': [3, [0, 0], [1, 95.0], [1, 90.8], [1, 92.6]], 'FT': [7, [0, 0], [0, 0], [4, 373.4], [3, 279.59999999999997]], 'FS': [1, [1, 86.9], [0, 0], [0, 0], [0, 0]]}, {'CU': [2, [1, 75.5], [1, 74.5], [0, 0], [0, 0]], 'SI': [1, [0, 0], [1, 94.5], [0, 0], [0, 0]], 'SL': [5, [2, 166.7], [3, 262.5], [0, 0], [0, 0]], 'FF': [0, [0, 0], [0, 0], [0, 0], [0, 0]], 'FT': [1, [0, 0], [0, 0], [0, 0], [1, 91.1]], 'CH': [3, [1, 87.0], [2, 171.89999999999998], [0, 0], [0, 0]], 'FC': [1, [1, 90.4], [0, 0], [0, 0], [0, 0]]}], '641313': [{'SL': [47, [37, 3152.3999999999996], [5, 427.1], [3, 253.0], [2, 176.5]], 'FF': [8, [3, 280.4], [4, 369.4], [0, 0], [1, 92.8]], 'CH': [12, [11, 925.4], [0, 0], [0, 0], [1, 85.8]], 'FT': [3, [2, 183.7], [1, 90.7], [0, 0], [0, 0]], 'SI': [3, [2, 186.8], [0, 0], [1, 93.9], [0, 0]], 'CU': [19, [17, 1359.2], [1, 75.2], [0, 0], [1, 83.4]], 'FC': [10, [9, 784.3], [1, 84.3], [0, 0], [0, 0]], 'KC': [7, [7, 568.4], [0, 0], [0, 0], [0, 0]], 'FS': [3, [3, 252.70000000000002], [0, 0], [0, 0], [0, 0]]}, {'FF': [39, [9, 862.6999999999999], [19, 1782.0], [3, 281.5], [8, 736.9]], 'SL': [4, [0, 0], [3, 252.1], [0, 0], [1, 87.0]], 'CU': [1, [0, 0], [1, 81.6], [0, 0], [0, 0]], 'FC': [2, [0, 0], [1, 85.8], [1, 87.6], [0, 0]], 'FT': [2, [1, 89.4], [0, 0], [0, 0], [1, 93.7]], 'SI': [1, [0, 0], [1, 92.9], [0, 0], [0, 0]], 'KC': [1, [0, 0], [1, 81.9], [0, 0], [0, 0]], 'CH': [2, [1, 77.4], [1, 81.0], [0, 0], [0, 0]], 'FS': [1, [0, 0], [1, 83.6], [0, 0], [0, 0]]}, {'FF': [24, [2, 185.5], [12, 1111.1], [6, 561.2], [4, 370.1]], 'SL': [6, [0, 0], [3, 249.79999999999998], [2, 171.3], [1, 82.9]], 'FT': [3, [0, 0], [1, 91.9], [1, 92.4], [1, 99.1]], 'SI': [4, [0, 0], [2, 191.3], [0, 0], [2, 182.3]], 'FC': [3, [0, 0], [2, 171.7], [1, 87.1], [0, 0]], 'CH': [4, [0, 0], [1, 85.0], [2, 167.8], [1, 84.2]], 'CU': [0, [0, 0], [0, 0], [0, 0], [0, 0]], 'KC': [0, [0, 0], [0, 0], [0, 0], [0, 0]]}, {'FF': [19, [0, 0], [14, 1304.2], [0, 0], [5, 465.20000000000005]], 'SL': [3, [0, 0], [1, 82.4], [1, 87.7], [1, 82.9]], 'CU': [1, [0, 0], [1, 75.5], [0, 0], [0, 0]], 'FC': [4, [0, 0], [2, 178.89999999999998], [1, 88.1], [1, 87.3]], 'CH': [2, [0, 0], [0, 0], [1, 89.7], [1, 89.1]], 'FT': [4, [0, 0], [0, 0], [2, 183.3], [2, 184.7]], 'SI': [1, [0, 0], [1, 93.7], [0, 0], [0, 0]], 'FS': [1, [0, 0], [0, 0], [1, 80.7], [0, 0]]}, {'SL': [19, [4, 338.1], [7, 589.8], [4, 349.0], [4, 349.0]], 'FF': [29, [2, 196.5], [13, 1221.8000000000002], [6, 560.7], [8, 740.6]], 'CU': [5, [0, 0], [3, 240.0], [0, 0], [2, 159.2]], 'FT': [6, [0, 0], [2, 185.9], [2, 191.60000000000002], [2, 182.4]], 'SI': [2, [0, 0], [1, 89.0], [0, 0], [1, 89.1]], 'CH': [5, [1, 83.4], [3, 248.2], [0, 0], [1, 82.7]], 'FC': [4, [0, 0], [1, 86.4], [2, 176.2], [1, 88.2]]}, {'FF': [23, [2, 179.5], [7, 653.9], [7, 659.8000000000001], [7, 646.9]], 'SL': [13, [1, 78.9], [4, 329.80000000000007], [6, 504.4], [2, 165.4]], 'CU': [4, [0, 0], [1, 77.3], [2, 157.60000000000002], [1, 79.0]], 'KC': [2, [0, 0], [1, 82.5], [0, 0], [1, 79.2]], 'CH': [5, [1, 81.6], [0, 0], [3, 241.6], [1, 87.8]], 'SI': [12, [1, 92.4], [3, 273.7], [4, 369.79999999999995], [4, 372.2]], 'FT': [6, [1, 92.0], [2, 182.5], [1, 91.4], [2, 185.0]], 'FC': [3, [1, 90.9], [2, 192.8], [0, 0], [0, 0]], 'KN': [1, [0, 0], [0, 0], [0, 0], [1, 74.9]]}, {'FC': [5, [0, 0], [1, 89.9], [1, 83.9], [3, 263.8]], 'FF': [23, [3, 273.0], [5, 460.29999999999995], [8, 741.2], [7, 654.9]], 'SL': [7, [0, 0], [2, 168.1], [0, 0], [5, 414.6]], 'KC': [0, [0, 0], [0, 0], [0, 0], [0, 0]], 'SI': [3, [1, 98.7], [1, 94.4], [1, 92.0], [0, 0]], 'CU': [4, [0, 0], [2, 147.8], [1, 77.7], [1, 78.0]], 'FT': [9, [0, 0], [3, 276.0], [2, 189.2], [4, 370.8]], 'CH': [2, [0, 0], [1, 86.6], [1, 88.0], [0, 0]]}, {'SL': [26, [3, 246.1], [11, 929.2], [7, 592.4], [5, 410.79999999999995]], 'FT': [6, [0, 0], [3, 276.9], [1, 96.1], [2, 181.3]], 'CU': [3, [0, 0], [1, 82.3], [1, 81.8], [1, 78.4]], 'FF': [20, [5, 474.3], [12, 1130.7], [2, 183.4], [1, 95.2]], 'FC': [5, [1, 90.0], [2, 173.89999999999998], [0, 0], [2, 173.3]], 'CH': [8, [2, 158.7], [1, 88.8], [1, 85.1], [4, 327.6]], 'SI': [5, [0, 0], [3, 275.0], [1, 91.3], [1, 89.3]], 'FS': [1, [1, 83.1], [0, 0], [0, 0], [0, 0]], 'KC': [1, [0, 0], [1, 80.1], [0, 0], [0, 0]]}, {'SL': [21, [1, 85.1], [9, 751.0], [6, 504.1], [5, 426.9]], 'CU': [9, [1, 79.8], [3, 226.6], [2, 162.3], [3, 231.3]], 'FT': [8, [0, 0], [2, 179.5], [3, 270.4], [3, 274.8]], 'FF': [7, [0, 0], [3, 293.0], [2, 180.8], [2, 187.6]], 'SI': [5, [1, 99.8], [1, 94.6], [1, 94.1], [2, 180.7]], 'CH': [5, [2, 170.6], [0, 0], [3, 252.39999999999998], [0, 0]], 'FC': [4, [0, 0], [1, 85.8], [2, 173.8], [1, 84.0]], 'KC': [3, [0, 0], [2, 157.89999999999998], [0, 0], [1, 80.7]], 'FS': [2, [0, 0], [0, 0], [1, 88.1], [1, 81.5]]}, {'CU': [5, [0, 0], [4, 322.1], [0, 0], [1, 82.4]], 'SI': [5, [1, 94.4], [1, 96.1], [1, 87.6], [2, 175.2]], 'FF': [12, [1, 94.5], [2, 188.3], [6, 545.3], [3, 280.4]], 'SL': [11, [0, 0], [4, 352.20000000000005], [3, 237.2], [4, 337.59999999999997]], 'FT': [5, [0, 0], [2, 185.39999999999998], [1, 91.3], [2, 186.3]], 'FC': [2, [0, 0], [1, 91.2], [0, 0], [1, 89.0]], 'CH': [0, [0, 0], [0, 0], [0, 0], [0, 0]], 'KC': [2, [1, 78.4], [1, 76.1], [0, 0], [0, 0]]}, {'SL': [0, [0, 0], [0, 0], [0, 0], [0, 0]], 'FF': [3, [0, 0], [2, 181.8], [0, 0], [1, 98.0]], 'FT': [0, [0, 0], [0, 0], [0, 0], [0, 0]], 'KC': [0, [0, 0], [0, 0], [0, 0], [0, 0]], 'CU': [0, [0, 0], [0, 0], [0, 0], [0, 0]]}, {'FF': [24, [8, 740.0999999999999], [14, 1314.0], [2, 182.2], [0, 0]], 'FC': [4, [1, 99.6], [2, 176.1], [0, 0], [1, 94.9]], 'CH': [0, [0, 0], [0, 0], [0, 0], [0, 0]], 'SL': [0, [0, 0], [0, 0], [0, 0], [0, 0]], 'FS': [0, [0, 0], [0, 0], [0, 0], [0, 0]], 'FT': [0, [0, 0], [0, 0], [0, 0], [0, 0]], 'CU': [0, [0, 0], [0, 0], [0, 0], [0, 0]]}, {'FF': [20, [5, 467.40000000000003], [13, 1205.6000000000004], [0, 0], [2, 184.10000000000002]], 'SL': [2, [0, 0], [1, 86.0], [0, 0], [1, 84.4]], 'SI': [1, [0, 0], [1, 94.9], [0, 0], [0, 0]], 'CH': [0, [0, 0], [0, 0], [0, 0], [0, 0]], 'CU': [0, [0, 0], [0, 0], [0, 0], [0, 0]], 'FT': [1, [0, 0], [1, 91.2], [0, 0], [0, 0]], 'FC': [1, [0, 0], [1, 86.1], [0, 0], [0, 0]]}, {'SI': [0, [0, 0], [0, 0], [0, 0], [0, 0]], 'FF': [3, [1, 96.6], [1, 92.2], [1, 93.2], [0, 0]], 'FC': [0, [0, 0], [0, 0], [0, 0], [0, 0]]}, {'FF': [20, [5, 466.99999999999994], [11, 1037.8], [0, 0], [4, 381.7]], 'FT': [3, [0, 0], [2, 182.4], [0, 0], [1, 88.9]], 'CU': [3, [0, 0], [2, 156.10000000000002], [0, 0], [1, 80.6]], 'SL': [7, [2, 162.3], [2, 175.10000000000002], [2, 170.2], [1, 82.4]], 'CH': [5, [1, 86.2], [2, 171.5], [0, 0], [2, 171.2]], 'KC': [1, [0, 0], [0, 0], [0, 0], [1, 82.4]], 'FC': [2, [1, 88.0], [1, 85.2], [0, 0], [0, 0]], 'SI': [1, [0, 0], [0, 0], [0, 0], [1, 94.4]], 'KN': [0, [0, 0], [0, 0], [0, 0], [0, 0]]}, {'SL': [2, [0, 0], [2, 173.1], [0, 0], [0, 0]], 'FF': [13, [0, 0], [4, 371.5], [2, 180.7], [7, 662.2]], 'FC': [4, [0, 0], [1, 90.3], [2, 180.0], [1, 90.0]], 'CH': [1, [0, 0], [0, 0], [1, 88.9], [0, 0]], 'FT': [7, [0, 0], [5, 460.7], [1, 90.8], [1, 94.0]], 'SI': [8, [2, 190.8], [3, 278.70000000000005], [0, 0], [3, 276.8]], 'FS': [1, [1, 78.7], [0, 0], [0, 0], [0, 0]], 'KN': [0, [0, 0], [0, 0], [0, 0], [0, 0]], 'CU': [1, [0, 0], [1, 77.2], [0, 0], [0, 0]]}, {'SL': [29, [12, 1012.3999999999999], [9, 773.4], [2, 165.4], [6, 509.3]], 'FT': [5, [0, 0], [5, 464.5], [0, 0], [0, 0]], 'CU': [7, [2, 159.1], [1, 78.2], [2, 144.4], [2, 150.7]], 'FF': [14, [4, 388.90000000000003], [6, 563.9000000000001], [3, 275.20000000000005], [1, 92.5]], 'FC': [9, [1, 88.3], [2, 170.89999999999998], [3, 269.0], [3, 266.0]], 'CH': [16, [2, 168.0], [8, 662.9], [3, 241.10000000000002], [3, 251.0]], 'SI': [0, [0, 0], [0, 0], [0, 0], [0, 0]], 'KC': [1, [0, 0], [1, 80.8], [0, 0], [0, 0]]}, {'SL': [7, [0, 0], [3, 255.3], [2, 168.7], [2, 165.7]], 'FF': [12, [1, 96.7], [5, 456.70000000000005], [1, 91.2], [5, 464.69999999999993]], 'SI': [7, [4, 376.2], [3, 282.6], [0, 0], [0, 0]], 'CU': [0, [0, 0], [0, 0], [0, 0], [0, 0]], 'FT': [10, [2, 185.7], [5, 459.9], [1, 91.2], [2, 183.5]], 'FC': [4, [0, 0], [4, 353.00000000000006], [0, 0], [0, 0]], 'CH': [8, [3, 261.4], [4, 343.59999999999997], [0, 0], [1, 72.1]], 'FS': [1, [0, 0], [1, 80.4], [0, 0], [0, 0]], 'KC': [1, [0, 0], [1, 82.3], [0, 0], [0, 0]], 'KN': [1, [0, 0], [1, 75.6], [0, 0], [0, 0]]}, {'SL': [27, [12, 1040.1], [6, 502.3], [4, 343.1], [5, 428.0]], 'FC': [3, [1, 84.5], [1, 88.6], [1, 88.0], [0, 0]], 'FF': [0, [0, 0], [0, 0], [0, 0], [0, 0]], 'SI': [0, [0, 0], [0, 0], [0, 0], [0, 0]], 'CU': [4, [2, 165.8], [1, 79.1], [0, 0], [1, 75.6]], 'CH': [2, [0, 0], [0, 0], [1, 83.2], [1, 83.7]], 'KC': [2, [0, 0], [0, 0], [1, 77.2], [1, 70.0]], 'FS': [1, [1, 82.6], [0, 0], [0, 0], [0, 0]], 'FT': [0, [0, 0], [0, 0], [0, 0], [0, 0]]}, {'SI': [2, [0, 0], [0, 0], [0, 0], [2, 184.7]], 'SL': [21, [7, 598.9], [7, 588.4], [2, 164.5], [5, 427.4000000000001]], 'CU': [8, [1, 78.0], [3, 227.0], [1, 74.5], [3, 245.5]], 'KC': [3, [0, 0], [2, 158.3], [1, 83.0], [0, 0]], 'FT': [2, [0, 0], [1, 89.9], [1, 91.3], [0, 0]], 'FF': [6, [0, 0], [4, 372.20000000000005], [0, 0], [2, 187.3]], 'CH': [7, [1, 70.6], [3, 249.1], [1, 84.1], [2, 164.7]], 'FC': [2, [0, 0], [1, 87.0], [1, 86.9], [0, 0]], 'FS': [2, [1, 80.9], [0, 0], [0, 0], [1, 84.4]]}, {'FT': [3, [0, 0], [2, 185.60000000000002], [0, 0], [1, 94.5]], 'SI': [4, [1, 94.1], [3, 278.1], [0, 0], [0, 0]], 'SL': [4, [1, 84.6], [1, 84.2], [0, 0], [2, 171.7]], 'FF': [5, [1, 94.8], [1, 97.6], [1, 88.9], [2, 183.6]], 'CH': [13, [3, 246.10000000000002], [8, 686.0], [0, 0], [2, 173.4]], 'CU': [6, [2, 149.5], [4, 310.9], [0, 0], [0, 0]], 'KC': [2, [0, 0], [1, 82.4], [1, 80.1], [0, 0]], 'FS': [2, [0, 0], [1, 84.4], [0, 0], [1, 88.2]], 'FC': [1, [1, 87.2], [0, 0], [0, 0], [0, 0]]}, {'CU': [3, [0, 0], [3, 237.2], [0, 0], [0, 0]], 'FF': [1, [1, 92.3], [0, 0], [0, 0], [0, 0]], 'SL': [4, [1, 78.2], [1, 79.7], [2, 173.5], [0, 0]], 'FC': [2, [0, 0], [1, 87.6], [0, 0], [1, 87.0]], 'FT': [1, [0, 0], [1, 93.0], [0, 0], [0, 0]], 'FS': [3, [2, 168.60000000000002], [1, 82.5], [0, 0], [0, 0]], 'CH': [0, [0, 0], [0, 0], [0, 0], [0, 0]], 'SI': [0, [0, 0], [0, 0], [0, 0], [0, 0]]}], '660670': [{'FT': [2, [2, 190.0], [0, 0], [0, 0], [0, 0]], 'SI': [1, [0, 0], [0, 0], [1, 89.5], [0, 0]], 'FF': [1, [0, 0], [0, 0], [1, 94.2], [0, 0]], 'SL': [23, [21, 1772.8999999999996], [0, 0], [0, 0], [2, 165.6]], 'CU': [13, [10, 808.3], [1, 80.4], [1, 82.3], [1, 84.3]], 'KC': [5, [5, 412.5], [0, 0], [0, 0], [0, 0]], 'FS': [5, [4, 341.1], [1, 89.2], [0, 0], [0, 0]], 'CH': [7, [3, 254.1], [3, 246.8], [0, 0], [1, 84.3]], 'FC': [2, [2, 171.7], [0, 0], [0, 0], [0, 0]]}, {'FF': [45, [19, 1807.9000000000003], [16, 1512.0], [2, 195.7], [8, 763.3]], 'FT': [3, [0, 0], [1, 93.3], [0, 0], [2, 186.60000000000002]], 'FC': [4, [2, 182.89999999999998], [2, 176.7], [0, 0], [0, 0]], 'SL': [7, [5, 438.4], [1, 89.3], [0, 0], [1, 79.3]], 'SI': [3, [1, 93.2], [2, 182.0], [0, 0], [0, 0]], 'CH': [2, [1, 78.7], [0, 0], [1, 88.2], [0, 0]], 'CU': [2, [1, 85.3], [1, 83.7], [0, 0], [0, 0]], 'KC': [1, [1, 85.1], [0, 0], [0, 0], [0, 0]]}, {'CU': [1, [0, 0], [0, 0], [1, 84.3], [0, 0]], 'FF': [54, [16, 1510.7000000000003], [28, 2668.2], [2, 185.1], [8, 759.8000000000001]], 'KC': [1, [0, 0], [0, 0], [0, 0], [1, 81.4]], 'SL': [8, [5, 425.6], [1, 87.4], [2, 180.3], [0, 0]], 'CH': [4, [0, 0], [3, 259.5], [1, 88.7], [0, 0]], 'SI': [4, [2, 182.4], [2, 184.39999999999998], [0, 0], [0, 0]], 'FT': [4, [2, 190.8], [0, 0], [1, 97.7], [1, 93.2]], 'FC': [1, [1, 84.6], [0, 0], [0, 0], [0, 0]]}, {'CH': [2, [0, 0], [1, 85.9], [0, 0], [1, 73.0]], 'FT': [5, [1, 97.3], [3, 285.20000000000005], [0, 0], [1, 96.2]], 'FS': [0, [0, 0], [0, 0], [0, 0], [0, 0]], 'CU': [1, [0, 0], [0, 0], [0, 0], [1, 79.6]], 'FF': [34, [6, 567.7], [18, 1708.6], [4, 378.6], [6, 580.0]], 'SL': [5, [0, 0], [2, 165.0], [0, 0], [3, 244.9]], 'FC': [0, [0, 0], [0, 0], [0, 0], [0, 0]], 'SI': [4, [1, 89.2], [2, 189.3], [0, 0], [1, 93.8]], 'KC': [0, [0, 0], [0, 0], [0, 0], [0, 0]]}, {'FF': [46, [14, 1328.8], [23, 2170.7000000000003], [2, 183.8], [7, 642.7]], 'CU': [6, [2, 161.8], [1, 80.3], [2, 163.5], [1, 80.3]], 'SL': [27, [8, 679.6], [12, 1018.5], [3, 264.1], [4, 355.2]], 'FT': [6, [0, 0], [4, 378.20000000000005], [2, 187.2], [0, 0]], 'FC': [7, [4, 361.4], [1, 86.5], [1, 89.4], [1, 87.5]], 'SI': [9, [2, 179.39999999999998], [3, 277.0], [3, 278.3], [1, 92.1]], 'CH': [7, [2, 167.8], [3, 247.20000000000002], [0, 0], [2, 170.89999999999998]], 'KC': [2, [0, 0], [1, 78.9], [0, 0], [1, 79.7]]}, {'SL': [14, [2, 170.89999999999998], [7, 602.2], [3, 254.8], [2, 177.9]], 'FF': [81, [19, 1789.4000000000003], [40, 3767.3000000000006], [12, 1125.6], [10, 937.2]], 'FC': [6, [1, 90.6], [3, 261.4], [0, 0], [2, 178.8]], 'CU': [11, [0, 0], [8, 639.7], [2, 162.5], [1, 77.3]], 'FS': [1, [0, 0], [1, 89.6], [0, 0], [0, 0]], 'FT': [10, [0, 0], [4, 367.3], [2, 191.0], [4, 373.1]], 'CH': [7, [1, 80.6], [1, 85.0], [0, 0], [5, 423.29999999999995]], 'SI': [14, [4, 376.8], [5, 468.5], [2, 187.2], [3, 279.0]], 'KC': [3, [0, 0], [1, 84.8], [0, 0], [2, 162.0]]}, {'CH': [7, [1, 83.9], [1, 84.4], [1, 76.6], [4, 337.6]], 'FT': [18, [0, 0], [6, 565.6], [4, 368.29999999999995], [8, 768.9000000000001]], 'FF': [36, [5, 471.5], [17, 1569.0000000000002], [9, 831.9], [5, 473.9]], 'FS': [1, [0, 0], [0, 0], [0, 0], [1, 86.2]], 'SL': [10, [1, 85.8], [5, 438.30000000000007], [2, 169.0], [2, 166.39999999999998]], 'FC': [3, [0, 0], [2, 181.7], [1, 87.9], [0, 0]], 'CU': [4, [0, 0], [1, 82.4], [1, 82.2], [2, 160.5]], 'SI': [10, [0, 0], [5, 467.19999999999993], [4, 371.0], [1, 93.2]], 'KC': [2, [0, 0], [1, 86.0], [0, 0], [1, 80.4]]}, {'FT': [12, [2, 171.0], [9, 845.4], [0, 0], [1, 91.7]], 'SL': [29, [5, 430.79999999999995], [11, 931.5], [6, 524.6999999999999], [7, 605.5]], 'FF': [38, [5, 477.0], [15, 1410.0999999999997], [6, 561.2], [12, 1127.8]], 'FC': [8, [0, 0], [5, 445.40000000000003], [2, 175.60000000000002], [1, 87.9]], 'FS': [1, [0, 0], [0, 0], [1, 79.3], [0, 0]], 'CH': [15, [5, 428.7], [5, 423.8], [4, 335.9], [1, 83.6]], 'CU': [5, [1, 78.8], [3, 237.20000000000002], [0, 0], [1, 80.7]], 'SI': [3, [1, 92.4], [2, 181.8], [0, 0], [0, 0]], 'KC': [3, [1, 82.3], [1, 78.2], [1, 82.1], [0, 0]]}, {'CU': [6, [0, 0], [0, 0], [3, 236.7], [3, 236.5]], 'CH': [13, [0, 0], [9, 759.0999999999999], [2, 162.4], [2, 168.9]], 'KC': [5, [1, 77.9], [1, 78.6], [3, 246.39999999999998], [0, 0]], 'FT': [18, [1, 92.3], [7, 658.1], [5, 461.70000000000005], [5, 469.8]], 'FS': [1, [0, 0], [0, 0], [0, 0], [1, 83.4]], 'SI': [14, [2, 184.10000000000002], [6, 548.5999999999999], [0, 0], [6, 564.6]], 'FF': [34, [6, 578.6999999999999], [21, 1964.2000000000003], [1, 92.7], [6, 572.8]], 'SL': [17, [5, 427.1], [9, 765.9999999999999], [1, 86.9], [2, 164.4]], 'FC': [11, [2, 186.60000000000002], [1, 89.9], [2, 174.2], [6, 533.3]]}, {'SL': [19, [4, 341.9], [7, 591.3], [3, 262.0], [5, 420.7]], 'FF': [18, [1, 94.5], [13, 1208.6], [2, 188.60000000000002], [2, 189.7]], 'FT': [15, [2, 186.9], [6, 568.1], [4, 375.5], [3, 285.2]], 'CU': [7, [0, 0], [5, 399.1], [2, 161.8], [0, 0]], 'FC': [2, [0, 0], [1, 86.4], [0, 0], [1, 92.2]], 'CH': [8, [0, 0], [7, 599.9000000000001], [0, 0], [1, 88.2]], 'SI': [11, [1, 93.7], [8, 741.3000000000001], [1, 89.8], [1, 92.1]], 'FS': [2, [1, 83.2], [0, 0], [0, 0], [1, 83.6]], 'KC': [0, [0, 0], [0, 0], [0, 0], [0, 0]]}, {'FF': [1, [1, 97.6], [0, 0], [0, 0], [0, 0]], 'SI': [0, [0, 0], [0, 0], [0, 0], [0, 0]], 'FC': [0, [0, 0], [0, 0], [0, 0], [0, 0]], 'FT': [0, [0, 0], [0, 0], [0, 0], [0, 0]], 'SL': [0, [0, 0], [0, 0], [0, 0], [0, 0]], 'CH': [0, [0, 0], [0, 0], [0, 0], [0, 0]], 'CU': [0, [0, 0], [0, 0], [0, 0], [0, 0]]}, {'FF': [9, [7, 665.4], [2, 197.2], [0, 0], [0, 0]], 'SL': [1, [1, 83.8], [0, 0], [0, 0], [0, 0]], 'FT': [1, [1, 94.9], [0, 0], [0, 0], [0, 0]], 'CH': [0, [0, 0], [0, 0], [0, 0], [0, 0]], 'FC': [0, [0, 0], [0, 0], [0, 0], [0, 0]], 'CU': [0, [0, 0], [0, 0], [0, 0], [0, 0]], 'SI': [1, [1, 86.3], [0, 0], [0, 0], [0, 0]]}, {'FF': [8, [2, 193.8], [4, 384.00000000000006], [1, 98.1], [1, 91.7]], 'FC': [1, [1, 86.3], [0, 0], [0, 0], [0, 0]], 'SI': [0, [0, 0], [0, 0], [0, 0], [0, 0]], 'SL': [0, [0, 0], [0, 0], [0, 0], [0, 0]], 'FT': [0, [0, 0], [0, 0], [0, 0], [0, 0]], 'CH': [1, [0, 0], [1, 81.5], [0, 0], [0, 0]]}, {'FF': [0, [0, 0], [0, 0], [0, 0], [0, 0]], 'SL': [0, [0, 0], [0, 0], [0, 0], [0, 0]], 'SI': [0, [0, 0], [0, 0], [0, 0], [0, 0]], 'FT': [0, [0, 0], [0, 0], [0, 0], [0, 0]], 'CH': [0, [0, 0], [0, 0], [0, 0], [0, 0]], 'CU': [0, [0, 0], [0, 0], [0, 0], [0, 0]]}, {'FF': [21, [12, 1139.7], [5, 468.90000000000003], [1, 93.2], [3, 285.20000000000005]], 'SL': [4, [3, 259.5], [1, 91.4], [0, 0], [0, 0]], 'CU': [1, [0, 0], [0, 0], [0, 0], [1, 77.0]], 'SI': [3, [3, 281.2], [0, 0], [0, 0], [0, 0]], 'FC': [4, [1, 96.6], [2, 182.1], [1, 87.4], [0, 0]], 'CH': [3, [0, 0], [2, 168.3], [0, 0], [1, 83.4]], 'FT': [1, [1, 91.5], [0, 0], [0, 0], [0, 0]]}, {'SI': [5, [0, 0], [3, 278.9], [0, 0], [2, 188.8]], 'SL': [3, [0, 0], [2, 174.7], [0, 0], [1, 88.5]], 'FF': [20, [2, 187.9], [15, 1411.5000000000002], [0, 0], [3, 288.8]], 'CH': [1, [0, 0], [1, 88.4], [0, 0], [0, 0]], 'FS': [0, [0, 0], [0, 0], [0, 0], [0, 0]], 'FT': [10, [2, 189.3], [5, 463.7], [0, 0], [3, 285.0]], 'KC': [0, [0, 0], [0, 0], [0, 0], [0, 0]], 'CU': [1, [0, 0], [1, 75.2], [0, 0], [0, 0]], 'FC': [1, [0, 0], [1, 93.8], [0, 0], [0, 0]]}, {'FF': [29, [13, 1223.8], [11, 1029.8], [0, 0], [5, 463.2]], 'FT': [2, [0, 0], [2, 192.4], [0, 0], [0, 0]], 'SI': [7, [2, 183.39999999999998], [4, 357.5], [0, 0], [1, 91.7]], 'FC': [10, [1, 90.6], [6, 539.0999999999999], [1, 90.8], [2, 175.7]], 'SL': [34, [11, 958.4000000000001], [13, 1136.6], [4, 343.9], [6, 514.4]], 'FS': [2, [0, 0], [2, 174.60000000000002], [0, 0], [0, 0]], 'CH': [10, [2, 165.8], [7, 586.2], [1, 83.8], [0, 0]], 'KC': [6, [1, 81.0], [3, 241.7], [1, 79.0], [1, 80.9]], 'CU': [5, [1, 81.2], [2, 149.8], [2, 163.39999999999998], [0, 0]]}, {'SI': [9, [3, 284.4], [4, 372.5], [0, 0], [2, 182.10000000000002]], 'FT': [22, [2, 189.7], [10, 941.1], [6, 567.9], [4, 375.7]], 'FF': [28, [2, 191.3], [13, 1199.3999999999999], [4, 375.1], [9, 852.8999999999999]], 'FS': [1, [1, 84.4], [0, 0], [0, 0], [0, 0]], 'CH': [7, [2, 169.7], [4, 341.4], [0, 0], [1, 85.2]], 'SL': [10, [0, 0], [5, 427.70000000000005], [2, 172.1], [3, 257.4]], 'CU': [0, [0, 0], [0, 0], [0, 0], [0, 0]], 'KC': [1, [0, 0], [1, 85.8], [0, 0], [0, 0]], 'FC': [6, [2, 176.2], [2, 178.2], [2, 177.7], [0, 0]]}, {'CU': [5, [3, 241.89999999999998], [2, 141.4], [0, 0], [0, 0]], 'FT': [0, [0, 0], [0, 0], [0, 0], [0, 0]], 'FS': [1, [0, 0], [0, 0], [0, 0], [1, 85.5]], 'SL': [19, [12, 1027.9], [4, 343.29999999999995], [1, 86.3], [2, 171.8]], 'CH': [3, [1, 81.4], [1, 87.3], [0, 0], [1, 85.0]], 'FF': [3, [1, 87.3], [2, 192.2], [0, 0], [0, 0]], 'SI': [0, [0, 0], [0, 0], [0, 0], [0, 0]], 'FC': [4, [2, 184.3], [2, 180.8], [0, 0], [0, 0]], 'KC': [2, [2, 160.60000000000002], [0, 0], [0, 0], [0, 0]]}, {'FF': [4, [1, 91.8], [1, 95.3], [1, 92.7], [1, 91.2]], 'FT': [5, [0, 0], [3, 266.1], [0, 0], [2, 184.6]], 'CU': [8, [1, 82.7], [2, 165.7], [3, 241.60000000000002], [2, 159.9]], 'SI': [4, [1, 96.1], [2, 188.3], [0, 0], [1, 90.8]], 'SL': [22, [3, 259.5], [5, 428.6], [4, 326.4], [10, 837.8000000000001]], 'CH': [11, [2, 166.0], [3, 249.89999999999998], [2, 169.60000000000002], [4, 335.8]], 'FC': [3, [0, 0], [0, 0], [2, 167.5], [1, 88.5]], 'FS': [4, [1, 85.7], [0, 0], [3, 258.90000000000003], [0, 0]], 'KC': [4, [2, 163.3], [1, 79.8], [0, 0], [1, 77.8]]}, {'CH': [13, [5, 430.30000000000007], [6, 511.20000000000005], [0, 0], [2, 173.2]], 'FT': [12, [5, 471.7], [3, 278.70000000000005], [1, 96.6], [3, 280.1]], 'FF': [2, [0, 0], [0, 0], [1, 95.9], [1, 92.4]], 'SL': [13, [4, 327.5], [3, 260.7], [4, 342.4], [2, 172.7]], 'CU': [7, [1, 76.1], [2, 158.6], [0, 0], [4, 318.9]], 'SI': [7, [0, 0], [1, 91.5], [4, 369.8], [2, 187.7]], 'FC': [3, [0, 0], [3, 266.5], [0, 0], [0, 0]], 'FS': [2, [1, 82.2], [1, 83.9], [0, 0], [0, 0]], 'KC': [1, [0, 0], [0, 0], [1, 84.3], [0, 0]]}, {'FT': [4, [1, 95.2], [2, 187.8], [0, 0], [1, 94.6]], 'CH': [3, [1, 87.2], [2, 171.89999999999998], [0, 0], [0, 0]], 'FS': [1, [1, 83.7], [0, 0], [0, 0], [0, 0]], 'FF': [1, [0, 0], [1, 93.1], [0, 0], [0, 0]], 'FC': [2, [1, 89.9], [1, 86.4], [0, 0], [0, 0]], 'SI': [3, [2, 191.3], [1, 93.3], [0, 0], [0, 0]], 'SL': [2, [1, 83.9], [1, 84.7], [0, 0], [0, 0]], 'CU': [1, [1, 77.0], [0, 0], [0, 0], [0, 0]]}], '592885': [{'SL': [19, [17, 1455.0], [2, 164.2], [0, 0], [0, 0]], 'FF': [2, [1, 94.6], [1, 94.4], [0, 0], [0, 0]], 'FT': [0, [0, 0], [0, 0], [0, 0], [0, 0]], 'FC': [1, [1, 89.9], [0, 0], [0, 0], [0, 0]], 'CH': [11, [10, 848.4], [1, 78.1], [0, 0], [0, 0]], 'SI': [0, [0, 0], [0, 0], [0, 0], [0, 0]], 'CU': [12, [12, 949.7], [0, 0], [0, 0], [0, 0]], 'KC': [3, [3, 246.00000000000003], [0, 0], [0, 0], [0, 0]], 'FS': [3, [3, 250.8], [0, 0], [0, 0], [0, 0]]}, {'FF': [33, [3, 281.5], [20, 1857.1000000000001], [5, 465.3], [5, 467.5]], 'FC': [3, [0, 0], [1, 90.1], [1, 89.9], [1, 90.4]], 'FT': [1, [0, 0], [0, 0], [0, 0], [1, 90.7]], 'KC': [0, [0, 0], [0, 0], [0, 0], [0, 0]], 'SI': [6, [1, 91.4], [2, 188.4], [1, 88.9], [2, 181.2]], 'CU': [0, [0, 0], [0, 0], [0, 0], [0, 0]], 'CH': [1, [0, 0], [1, 83.4], [0, 0], [0, 0]], 'SL': [4, [0, 0], [1, 86.3], [0, 0], [3, 263.7]]}, {'SI': [6, [0, 0], [5, 462.79999999999995], [0, 0], [1, 91.0]], 'FF': [33, [6, 568.9], [16, 1494.1000000000001], [3, 280.4], [8, 743.0999999999999]], 'FC': [7, [1, 87.3], [2, 175.1], [2, 183.1], [2, 178.39999999999998]], 'SL': [6, [0, 0], [3, 253.0], [1, 91.4], [2, 169.89999999999998]], 'CU': [2, [1, 76.8], [1, 80.8], [0, 0], [0, 0]], 'FT': [2, [0, 0], [1, 95.2], [0, 0], [1, 93.2]], 'KC': [0, [0, 0], [0, 0], [0, 0], [0, 0]], 'CH': [2, [0, 0], [0, 0], [1, 82.1], [1, 82.4]]}, {'FF': [22, [3, 281.6], [12, 1143.6000000000001], [2, 187.0], [5, 457.2]], 'FC': [4, [1, 86.3], [2, 178.89999999999998], [0, 0], [1, 84.6]], 'SL': [9, [5, 420.3], [4, 339.7], [0, 0], [0, 0]], 'CU': [1, [0, 0], [0, 0], [0, 0], [1, 73.8]], 'CH': [5, [1, 84.6], [0, 0], [2, 169.4], [2, 165.0]], 'SI': [3, [0, 0], [1, 95.4], [0, 0], [2, 184.0]], 'FS': [0, [0, 0], [0, 0], [0, 0], [0, 0]], 'KC': [0, [0, 0], [0, 0], [0, 0], [0, 0]], 'FT': [2, [0, 0], [1, 90.3], [1, 94.0], [0, 0]]}, {'FT': [10, [0, 0], [4, 371.1], [3, 273.70000000000005], [3, 278.4]], 'SL': [11, [1, 81.9], [7, 591.5999999999999], [1, 92.6], [2, 166.0]], 'FC': [6, [0, 0], [3, 270.4], [1, 88.6], [2, 175.4]], 'FF': [24, [1, 93.5], [9, 833.9], [5, 465.8], [9, 838.4]], 'SI': [8, [0, 0], [2, 186.5], [3, 273.7], [3, 279.59999999999997]], 'CH': [7, [1, 83.5], [6, 500.80000000000007], [0, 0], [0, 0]], 'CU': [1, [1, 78.1], [0, 0], [0, 0], [0, 0]], 'KC': [1, [0, 0], [0, 0], [0, 0], [1, 80.9]]}, {'FF': [23, [3, 280.20000000000005], [8, 750.7], [4, 364.79999999999995], [8, 742.1]], 'FT': [5, [0, 0], [0, 0], [3, 271.40000000000003], [2, 181.9]], 'FC': [6, [1, 87.9], [2, 175.3], [2, 179.8], [1, 85.7]], 'SL': [14, [2, 170.89999999999998], [4, 346.00000000000006], [5, 433.29999999999995], [3, 262.2]], 'CU': [5, [0, 0], [1, 79.0], [2, 151.5], [2, 161.3]], 'CH': [5, [0, 0], [3, 254.0], [0, 0], [2, 174.1]], 'SI': [3, [0, 0], [0, 0], [1, 92.8], [2, 179.6]], 'KC': [3, [0, 0], [1, 79.7], [1, 77.9], [1, 79.4]]}, {'FF': [18, [1, 97.9], [9, 843.3000000000001], [4, 374.6], [4, 367.79999999999995]], 'CU': [5, [0, 0], [3, 233.7], [0, 0], [2, 149.5]], 'SL': [11, [3, 259.6], [2, 173.4], [4, 341.6], [2, 168.5]], 'SI': [10, [1, 89.0], [4, 379.09999999999997], [2, 188.6], [3, 270.6]], 'KC': [6, [2, 160.7], [2, 163.6], [1, 71.5], [1, 80.5]], 'FC': [3, [0, 0], [1, 84.3], [2, 180.5], [0, 0]], 'FT': [5, [0, 0], [4, 371.40000000000003], [0, 0], [1, 91.2]], 'CH': [8, [1, 88.0], [0, 0], [3, 252.6], [4, 345.3]], 'FS': [1, [0, 0], [1, 85.8], [0, 0], [0, 0]]}, {'FF': [14, [0, 0], [8, 763.3], [1, 92.7], [5, 472.80000000000007]], 'FC': [6, [2, 174.8], [1, 88.0], [1, 90.7], [2, 177.4]], 'FT': [3, [0, 0], [2, 178.89999999999998], [0, 0], [1, 90.6]], 'KC': [3, [1, 81.4], [0, 0], [2, 165.3], [0, 0]], 'SL': [6, [3, 250.4], [1, 82.8], [1, 88.3], [1, 85.2]], 'SI': [6, [1, 89.2], [1, 89.5], [2, 180.2], [2, 180.10000000000002]], 'CU': [6, [3, 245.4], [3, 243.2], [0, 0], [0, 0]], 'CH': [4, [1, 84.4], [2, 171.0], [1, 80.9], [0, 0]]}, {'FF': [17, [0, 0], [8, 751.1999999999999], [5, 471.59999999999997], [4, 375.80000000000007]], 'FC': [6, [0, 0], [2, 181.2], [3, 273.6], [1, 88.8]], 'SI': [10, [0, 0], [4, 358.9], [3, 278.5], [3, 279.6]], 'FT': [8, [3, 282.29999999999995], [4, 383.5], [0, 0], [1, 93.8]], 'CU': [3, [0, 0], [0, 0], [1, 79.3], [2, 162.8]], 'SL': [14, [5, 426.20000000000005], [5, 431.6000000000001], [2, 163.1], [2, 175.6]], 'CH': [9, [3, 245.1], [1, 85.3], [4, 349.8], [1, 83.5]]}, {'FC': [6, [0, 0], [3, 264.4], [2, 176.5], [1, 82.7]], 'SI': [9, [0, 0], [5, 464.69999999999993], [0, 0], [4, 363.59999999999997]], 'CH': [18, [4, 336.5], [5, 426.9], [4, 350.3], [5, 436.99999999999994]], 'CU': [4, [0, 0], [2, 159.2], [1, 74.9], [1, 83.2]], 'FF': [13, [1, 92.5], [5, 464.3], [3, 282.3], [4, 367.1]], 'FS': [4, [1, 84.2], [1, 84.7], [2, 165.89999999999998], [0, 0]], 'FT': [4, [0, 0], [2, 186.3], [0, 0], [2, 186.7]], 'SL': [7, [1, 83.5], [2, 167.8], [1, 84.3], [3, 246.5]], 'KC': [2, [0, 0], [0, 0], [2, 163.0], [0, 0]]}, {'FT': [3, [0, 0], [3, 269.2], [0, 0], [0, 0]], 'SI': [0, [0, 0], [0, 0], [0, 0], [0, 0]], 'FF': [9, [1, 96.5], [8, 744.5], [0, 0], [0, 0]], 'SL': [0, [0, 0], [0, 0], [0, 0], [0, 0]], 'CU': [0, [0, 0], [0, 0], [0, 0], [0, 0]]}, {'FF': [29, [11, 1040.4], [11, 1034.0], [2, 184.3], [5, 468.1]], 'SL': [5, [1, 89.5], [2, 174.8], [2, 170.7], [0, 0]], 'FC': [1, [0, 0], [1, 89.7], [0, 0], [0, 0]], 'FT': [0, [0, 0], [0, 0], [0, 0], [0, 0]], 'CU': [0, [0, 0], [0, 0], [0, 0], [0, 0]], 'CH': [1, [0, 0], [0, 0], [1, 85.6], [0, 0]], 'SI': [1, [0, 0], [1, 90.8], [0, 0], [0, 0]]}, {'CU': [0, [0, 0], [0, 0], [0, 0], [0, 0]], 'FF': [21, [7, 649.9], [9, 841.2], [3, 284.3], [2, 188.0]], 'SI': [1, [0, 0], [1, 94.7], [0, 0], [0, 0]], 'FC': [1, [0, 0], [1, 86.0], [0, 0], [0, 0]], 'SL': [1, [0, 0], [0, 0], [0, 0], [1, 83.9]], 'KC': [0, [0, 0], [0, 0], [0, 0], [0, 0]], 'CH': [1, [0, 0], [0, 0], [0, 0], [1, 84.9]], 'FT': [2, [1, 90.2], [1, 95.8], [0, 0], [0, 0]]}, {'SI': [0, [0, 0], [0, 0], [0, 0], [0, 0]], 'KC': [0, [0, 0], [0, 0], [0, 0], [0, 0]], 'CU': [0, [0, 0], [0, 0], [0, 0], [0, 0]], 'FF': [2, [1, 95.9], [0, 0], [1, 95.5], [0, 0]], 'CH': [0, [0, 0], [0, 0], [0, 0], [0, 0]], 'SL': [1, [1, 84.3], [0, 0], [0, 0], [0, 0]], 'FS': [0, [0, 0], [0, 0], [0, 0], [0, 0]], 'FC': [0, [0, 0], [0, 0], [0, 0], [0, 0]], 'FT': [0, [0, 0], [0, 0], [0, 0], [0, 0]]}, {'FF': [19, [1, 93.2], [11, 1024.1000000000001], [2, 181.2], [5, 467.9]], 'FT': [7, [1, 90.9], [3, 274.5], [1, 90.4], [2, 189.3]], 'SI': [9, [0, 0], [4, 369.7], [1, 93.7], [4, 361.4]], 'CH': [4, [1, 83.6], [2, 170.5], [1, 81.1], [0, 0]], 'SL': [9, [1, 87.5], [4, 340.5], [2, 172.2], [2, 174.8]], 'FC': [4, [0, 0], [4, 344.6], [0, 0], [0, 0]], 'CU': [0, [0, 0], [0, 0], [0, 0], [0, 0]]}, {'KC': [1, [0, 0], [1, 84.9], [0, 0], [0, 0]], 'FC': [6, [3, 257.1], [1, 85.1], [0, 0], [2, 172.1]], 'CH': [10, [0, 0], [6, 507.5], [2, 171.10000000000002], [2, 168.5]], 'FF': [20, [4, 367.4], [10, 939.5999999999999], [4, 379.6], [2, 182.0]], 'CU': [0, [0, 0], [0, 0], [0, 0], [0, 0]], 'SL': [3, [0, 0], [1, 88.9], [2, 171.0], [0, 0]], 'FS': [1, [0, 0], [1, 84.4], [0, 0], [0, 0]], 'FT': [2, [0, 0], [1, 92.8], [1, 93.2], [0, 0]], 'SI': [2, [0, 0], [0, 0], [1, 92.8], [1, 94.7]]}, {'FF': [11, [0, 0], [6, 563.7], [1, 97.0], [4, 373.70000000000005]], 'SI': [9, [1, 92.9], [6, 549.5], [1, 90.9], [1, 91.8]], 'FC': [7, [1, 92.2], [6, 534.7], [0, 0], [0, 0]], 'FT': [6, [2, 183.5], [3, 270.1], [0, 0], [1, 91.7]], 'SL': [19, [9, 780.1], [8, 685.9999999999999], [0, 0], [2, 172.2]], 'CH': [3, [2, 166.0], [0, 0], [0, 0], [1, 84.0]], 'KC': [2, [1, 81.0], [1, 82.4], [0, 0], [0, 0]], 'CU': [5, [2, 164.6], [1, 81.1], [1, 82.2], [1, 77.2]]}, {'CU': [2, [2, 152.8], [0, 0], [0, 0], [0, 0]], 'FC': [6, [4, 350.5], [1, 88.7], [1, 87.6], [0, 0]], 'SI': [6, [0, 0], [4, 370.3], [2, 187.3], [0, 0]], 'FF': [12, [3, 275.6], [4, 378.09999999999997], [4, 371.3], [1, 96.1]], 'CH': [17, [10, 860.7], [3, 256.7], [1, 85.1], [3, 259.6]], 'FT': [5, [0, 0], [4, 373.29999999999995], [0, 0], [1, 94.9]], 'SL': [9, [7, 585.0], [1, 82.7], [1, 83.9], [0, 0]], 'FS': [1, [0, 0], [0, 0], [0, 0], [1, 83.3]], 'KC': [0, [0, 0], [0, 0], [0, 0], [0, 0]]}, {'FF': [0, [0, 0], [0, 0], [0, 0], [0, 0]], 'FC': [2, [1, 93.7], [1, 91.2], [0, 0], [0, 0]], 'SL': [11, [11, 936.4000000000001], [0, 0], [0, 0], [0, 0]], 'FT': [2, [2, 177.10000000000002], [0, 0], [0, 0], [0, 0]], 'CU': [3, [2, 155.5], [1, 82.1], [0, 0], [0, 0]], 'SI': [0, [0, 0], [0, 0], [0, 0], [0, 0]], 'CH': [0, [0, 0], [0, 0], [0, 0], [0, 0]], 'KC': [0, [0, 0], [0, 0], [0, 0], [0, 0]]}, {'FT': [3, [1, 88.2], [1, 90.6], [0, 0], [1, 95.6]], 'CH': [9, [5, 429.3], [4, 345.0], [0, 0], [0, 0]], 'CU': [9, [4, 320.20000000000005], [5, 406.8], [0, 0], [0, 0]], 'SI': [10, [2, 181.4], [3, 281.6], [2, 184.2], [3, 271.9]], 'SL': [12, [8, 688.5999999999999], [2, 175.0], [0, 0], [2, 172.3]], 'KC': [2, [1, 78.4], [1, 82.6], [0, 0], [0, 0]], 'FF': [2, [0, 0], [0, 0], [1, 93.0], [1, 94.4]], 'FC': [2, [1, 88.7], [0, 0], [0, 0], [1, 88.5]], 'FS': [2, [2, 167.0], [0, 0], [0, 0], [0, 0]]}, {'SL': [10, [5, 432.7], [1, 83.3], [1, 79.2], [3, 258.4]], 'SI': [5, [0, 0], [0, 0], [1, 87.8], [4, 373.6]], 'CU': [3, [3, 230.8], [0, 0], [0, 0], [0, 0]], 'KC': [1, [0, 0], [1, 80.4], [0, 0], [0, 0]], 'CH': [19, [11, 921.6], [1, 89.8], [5, 422.59999999999997], [2, 163.0]], 'FT': [5, [1, 88.6], [0, 0], [1, 90.3], [3, 282.9]], 'FF': [8, [1, 96.7], [2, 186.10000000000002], [3, 276.7], [2, 184.8]], 'FS': [2, [1, 79.4], [1, 83.5], [0, 0], [0, 0]], 'FC': [2, [1, 82.6], [0, 0], [0, 0], [1, 95.9]]}, {'CU': [1, [1, 78.2], [0, 0], [0, 0], [0, 0]], 'FC': [2, [2, 171.0], [0, 0], [0, 0], [0, 0]], 'FF': [0, [0, 0], [0, 0], [0, 0], [0, 0]], 'SL': [7, [6, 493.09999999999997], [0, 0], [1, 84.2], [0, 0]], 'CH': [7, [5, 409.2], [2, 171.9], [0, 0], [0, 0]], 'SI': [1, [0, 0], [0, 0], [1, 94.5], [0, 0]], 'FS': [1, [1, 83.2], [0, 0], [0, 0], [0, 0]], 'FT': [0, [0, 0], [0, 0], [0, 0], [0, 0]], 'KC': [2, [0, 0], [1, 78.2], [0, 0], [1, 81.4]]}], '545361': [{'CH': [4, [2, 170.9], [1, 88.4], [0, 0], [1, 85.6]], 'SL': [14, [13, 1117.9], [1, 84.4], [0, 0], [0, 0]], 'FF': [0, [0, 0], [0, 0], [0, 0], [0, 0]], 'FT': [0, [0, 0], [0, 0], [0, 0], [0, 0]], 'KC': [0, [0, 0], [0, 0], [0, 0], [0, 0]], 'FC': [1, [1, 88.1], [0, 0], [0, 0], [0, 0]], 'CU': [5, [5, 415.7], [0, 0], [0, 0], [0, 0]], 'SI': [0, [0, 0], [0, 0], [0, 0], [0, 0]], 'FS': [0, [0, 0], [0, 0], [0, 0], [0, 0]]}, {'FT': [4, [1, 93.5], [1, 90.0], [0, 0], [2, 186.0]], 'CU': [1, [0, 0], [1, 76.3], [0, 0], [0, 0]], 'FF': [33, [9, 853.2], [15, 1400.1000000000004], [3, 272.0], [6, 554.3]], 'FS': [0, [0, 0], [0, 0], [0, 0], [0, 0]], 'SL': [0, [0, 0], [0, 0], [0, 0], [0, 0]], 'FC': [6, [2, 177.2], [3, 257.7], [1, 89.3], [0, 0]], 'CH': [2, [0, 0], [1, 87.1], [1, 86.4], [0, 0]], 'SI': [1, [0, 0], [1, 88.8], [0, 0], [0, 0]], 'KC': [0, [0, 0], [0, 0], [0, 0], [0, 0]]}, {'FT': [5, [0, 0], [3, 281.4], [1, 94.4], [1, 95.4]], 'CU': [1, [0, 0], [1, 80.7], [0, 0], [0, 0]], 'FF': [51, [9, 843.5], [28, 2634.7], [7, 642.0], [7, 644.0]], 'SI': [9, [2, 180.2], [5, 448.69999999999993], [0, 0], [2, 194.3]], 'FC': [6, [0, 0], [5, 443.1], [1, 92.8], [0, 0]], 'KC': [1, [0, 0], [0, 0], [0, 0], [1, 79.7]], 'CH': [1, [0, 0], [1, 82.7], [0, 0], [0, 0]], 'SL': [0, [0, 0], [0, 0], [0, 0], [0, 0]]}, {'FF': [34, [4, 380.5], [16, 1488.3999999999999], [3, 288.7], [11, 1021.6999999999999]], 'SL': [4, [3, 260.3], [0, 0], [1, 90.6], [0, 0]], 'FC': [5, [0, 0], [4, 352.30000000000007], [1, 85.2], [0, 0]], 'CU': [0, [0, 0], [0, 0], [0, 0], [0, 0]], 'SI': [1, [0, 0], [0, 0], [0, 0], [1, 89.6]], 'KC': [0, [0, 0], [0, 0], [0, 0], [0, 0]], 'FT': [4, [0, 0], [2, 188.3], [1, 93.7], [1, 93.3]], 'CH': [0, [0, 0], [0, 0], [0, 0], [0, 0]], 'FS': [0, [0, 0], [0, 0], [0, 0], [0, 0]]}, {'SI': [5, [0, 0], [3, 273.4], [1, 89.8], [1, 89.7]], 'FF': [47, [8, 756.3], [24, 2230.7], [4, 375.90000000000003], [11, 1014.5999999999999]], 'FT': [7, [1, 94.5], [4, 371.0], [1, 93.3], [1, 92.3]], 'CH': [5, [1, 86.7], [1, 85.1], [2, 165.4], [1, 79.8]], 'FC': [10, [2, 178.0], [4, 360.09999999999997], [1, 88.3], [3, 265.3]], 'CU': [2, [0, 0], [2, 158.7], [0, 0], [0, 0]], 'SL': [13, [2, 166.1], [5, 429.3], [2, 169.7], [4, 331.3]]}, {'FF': [34, [3, 286.3], [15, 1403.3999999999999], [9, 838.0], [7, 650.9]], 'CU': [6, [0, 0], [1, 77.4], [0, 0], [5, 402.70000000000005]], 'FC': [7, [1, 92.9], [3, 266.0], [1, 90.3], [2, 180.60000000000002]], 'SI': [6, [0, 0], [1, 92.2], [3, 270.0], [2, 183.9]], 'SL': [8, [1, 82.5], [3, 248.5], [1, 80.3], [3, 238.29999999999998]], 'FT': [2, [0, 0], [0, 0], [1, 89.5], [1, 92.8]], 'CH': [2, [0, 0], [1, 85.6], [0, 0], [1, 89.9]]}, {'FF': [45, [2, 190.7], [17, 1593.4], [8, 744.8000000000001], [18, 1669.1]], 'CU': [0, [0, 0], [0, 0], [0, 0], [0, 0]], 'FT': [12, [0, 0], [5, 468.09999999999997], [4, 376.0], [3, 281.20000000000005]], 'FC': [6, [1, 91.6], [4, 349.20000000000005], [0, 0], [1, 87.8]], 'CH': [7, [0, 0], [4, 350.40000000000003], [1, 88.9], [2, 175.3]], 'SI': [6, [0, 0], [3, 281.3], [2, 187.39999999999998], [1, 95.1]], 'SL': [3, [1, 83.9], [0, 0], [0, 0], [2, 169.2]]}, {'SL': [25, [2, 175.5], [7, 595.9], [6, 520.4000000000001], [10, 851.5]], 'FF': [20, [3, 282.0], [13, 1216.1], [3, 279.4], [1, 92.2]], 'KC': [0, [0, 0], [0, 0], [0, 0], [0, 0]], 'FT': [3, [0, 0], [2, 178.5], [0, 0], [1, 90.1]], 'CU': [3, [0, 0], [2, 155.5], [1, 70.6], [0, 0]], 'SI': [6, [0, 0], [3, 266.1], [2, 183.3], [1, 92.5]], 'CH': [10, [0, 0], [3, 260.5], [4, 334.7], [3, 252.7]], 'FC': [3, [0, 0], [2, 172.4], [0, 0], [1, 85.5]], 'FS': [1, [0, 0], [0, 0], [0, 0], [1, 86.6]]}, {'CH': [13, [2, 163.0], [3, 256.0], [4, 337.9], [4, 334.9]], 'FF': [16, [0, 0], [8, 746.7], [1, 92.9], [7, 647.9]], 'SI': [7, [0, 0], [2, 181.0], [5, 449.30000000000007], [0, 0]], 'CU': [4, [0, 0], [2, 158.5], [1, 74.1], [1, 82.3]], 'SL': [12, [3, 250.7], [5, 430.4], [1, 84.9], [3, 253.6]], 'FT': [0, [0, 0], [0, 0], [0, 0], [0, 0]], 'FC': [4, [3, 267.70000000000005], [1, 86.1], [0, 0], [0, 0]], 'KC': [0, [0, 0], [0, 0], [0, 0], [0, 0]]}, {'FF': [19, [1, 94.5], [11, 1035.3], [2, 186.60000000000002], [5, 456.79999999999995]], 'CH': [8, [1, 86.3], [5, 428.49999999999994], [1, 87.5], [1, 88.5]], 'SL': [9, [1, 87.4], [3, 258.4], [1, 83.8], [4, 341.4]], 'CU': [2, [0, 0], [0, 0], [0, 0], [2, 155.5]], 'FT': [7, [0, 0], [5, 467.00000000000006], [1, 92.1], [1, 92.8]], 'SI': [4, [0, 0], [3, 276.59999999999997], [0, 0], [1, 91.3]], 'FS': [1, [0, 0], [1, 88.4], [0, 0], [0, 0]], 'FC': [3, [0, 0], [2, 173.9], [1, 83.6], [0, 0]], 'KC': [0, [0, 0], [0, 0], [0, 0], [0, 0]]}, {'FF': [0, [0, 0], [0, 0], [0, 0], [0, 0]], 'KC': [0, [0, 0], [0, 0], [0, 0], [0, 0]], 'CU': [0, [0, 0], [0, 0], [0, 0], [0, 0]], 'FT': [0, [0, 0], [0, 0], [0, 0], [0, 0]], 'CH': [0, [0, 0], [0, 0], [0, 0], [0, 0]], 'FC': [0, [0, 0], [0, 0], [0, 0], [0, 0]], 'SL': [0, [0, 0], [0, 0], [0, 0], [0, 0]]}, {'FF': [5, [5, 475.80000000000007], [0, 0], [0, 0], [0, 0]], 'FT': [0, [0, 0], [0, 0], [0, 0], [0, 0]], 'FC': [0, [0, 0], [0, 0], [0, 0], [0, 0]], 'CU': [0, [0, 0], [0, 0], [0, 0], [0, 0]], 'SL': [0, [0, 0], [0, 0], [0, 0], [0, 0]], 'SI': [2, [1, 88.9], [1, 89.2], [0, 0], [0, 0]], 'CH': [0, [0, 0], [0, 0], [0, 0], [0, 0]]}, {'FT': [1, [0, 0], [1, 91.9], [0, 0], [0, 0]], 'SI': [0, [0, 0], [0, 0], [0, 0], [0, 0]], 'FF': [9, [6, 556.6], [2, 187.7], [0, 0], [1, 93.9]], 'FC': [1, [0, 0], [1, 85.2], [0, 0], [0, 0]], 'KC': [0, [0, 0], [0, 0], [0, 0], [0, 0]], 'SL': [0, [0, 0], [0, 0], [0, 0], [0, 0]]}, {'CU': [0, [0, 0], [0, 0], [0, 0], [0, 0]], 'FF': [2, [0, 0], [2, 190.2], [0, 0], [0, 0]], 'CH': [0, [0, 0], [0, 0], [0, 0], [0, 0]], 'SI': [0, [0, 0], [0, 0], [0, 0], [0, 0]], 'FS': [0, [0, 0], [0, 0], [0, 0], [0, 0]], 'SL': [0, [0, 0], [0, 0], [0, 0], [0, 0]], 'FT': [0, [0, 0], [0, 0], [0, 0], [0, 0]]}, {'SI': [1, [0, 0], [1, 91.5], [0, 0], [0, 0]], 'FF': [14, [1, 92.5], [10, 943.9000000000001], [0, 0], [3, 273.9]], 'CU': [1, [0, 0], [1, 76.1], [0, 0], [0, 0]], 'KC': [0, [0, 0], [0, 0], [0, 0], [0, 0]], 'CH': [2, [0, 0], [0, 0], [0, 0], [2, 167.7]], 'SL': [3, [2, 166.1], [1, 84.3], [0, 0], [0, 0]], 'FT': [1, [0, 0], [1, 97.3], [0, 0], [0, 0]], 'FC': [2, [0, 0], [1, 89.0], [1, 83.9], [0, 0]]}, {'FT': [5, [0, 0], [2, 183.3], [2, 190.4], [1, 90.1]], 'FF': [18, [0, 0], [10, 930.6999999999999], [1, 94.5], [7, 648.3000000000001]], 'FC': [4, [0, 0], [3, 257.5], [0, 0], [1, 89.2]], 'CH': [1, [0, 0], [1, 85.5], [0, 0], [0, 0]], 'CU': [0, [0, 0], [0, 0], [0, 0], [0, 0]], 'SI': [1, [0, 0], [1, 95.9], [0, 0], [0, 0]], 'SL': [0, [0, 0], [0, 0], [0, 0], [0, 0]]}, {'FC': [6, [2, 176.6], [1, 96.0], [1, 86.3], [2, 176.10000000000002]], 'FT': [6, [0, 0], [2, 185.9], [2, 187.2], [2, 179.7]], 'FF': [14, [1, 94.7], [8, 745.9], [2, 185.2], [3, 278.7]], 'SL': [34, [11, 935.1], [12, 1023.1], [6, 508.19999999999993], [5, 430.70000000000005]], 'CU': [8, [1, 78.6], [1, 80.7], [2, 161.2], [4, 318.3]], 'SI': [6, [1, 87.7], [2, 187.4], [1, 89.7], [2, 179.8]], 'CH': [6, [1, 80.5], [3, 245.8], [2, 175.3], [0, 0]], 'KC': [0, [0, 0], [0, 0], [0, 0], [0, 0]]}, {'FF': [8, [2, 189.2], [2, 182.2], [2, 189.3], [2, 189.7]], 'CH': [4, [0, 0], [4, 347.79999999999995], [0, 0], [0, 0]], 'SL': [3, [0, 0], [2, 169.5], [0, 0], [1, 84.8]], 'FC': [4, [0, 0], [3, 263.8], [0, 0], [1, 88.4]], 'FT': [7, [3, 276.8], [3, 284.4], [0, 0], [1, 94.6]], 'CU': [1, [0, 0], [1, 81.6], [0, 0], [0, 0]], 'SI': [4, [1, 96.7], [2, 191.0], [0, 0], [1, 92.9]]}, {'CH': [3, [1, 77.4], [1, 80.2], [0, 0], [1, 78.0]], 'CU': [2, [1, 79.6], [0, 0], [1, 81.9], [0, 0]], 'SL': [11, [6, 522.3000000000001], [2, 175.8], [1, 91.7], [2, 176.7]], 'FT': [1, [0, 0], [0, 0], [1, 90.9], [0, 0]], 'KC': [0, [0, 0], [0, 0], [0, 0], [0, 0]], 'FF': [1, [0, 0], [1, 96.8], [0, 0], [0, 0]], 'SI': [1, [1, 90.2], [0, 0], [0, 0], [0, 0]], 'FC': [0, [0, 0], [0, 0], [0, 0], [0, 0]]}, {'CU': [6, [1, 82.1], [1, 75.9], [1, 76.8], [3, 236.4]], 'SL': [19, [2, 166.2], [10, 845.1], [4, 342.70000000000005], [3, 242.4]], 'KC': [2, [1, 82.0], [1, 82.9], [0, 0], [0, 0]], 'FT': [8, [1, 92.8], [4, 372.0], [1, 91.3], [2, 183.10000000000002]], 'CH': [13, [5, 414.5], [3, 253.89999999999998], [2, 158.7], [3, 263.7]], 'SI': [2, [1, 92.3], [1, 93.6], [0, 0], [0, 0]], 'FF': [4, [0, 0], [1, 96.4], [2, 181.3], [1, 89.7]], 'FS': [2, [0, 0], [2, 174.8], [0, 0], [0, 0]], 'FC': [2, [0, 0], [0, 0], [0, 0], [2, 169.4]]}, {'FF': [4, [0, 0], [2, 187.0], [2, 186.9], [0, 0]], 'SL': [10, [1, 84.1], [6, 512.0], [2, 164.2], [1, 86.1]], 'CU': [4, [1, 77.0], [1, 78.1], [1, 79.7], [1, 81.7]], 'CH': [9, [7, 596.0], [0, 0], [0, 0], [2, 167.7]], 'SI': [4, [0, 0], [1, 93.1], [2, 185.5], [1, 90.3]], 'FT': [3, [0, 0], [2, 180.5], [0, 0], [1, 93.6]], 'FC': [0, [0, 0], [0, 0], [0, 0], [0, 0]]}, {'FF': [1, [0, 0], [1, 93.8], [0, 0], [0, 0]], 'FC': [1, [1, 87.9], [0, 0], [0, 0], [0, 0]], 'SL': [3, [2, 168.8], [1, 85.7], [0, 0], [0, 0]], 'CH': [0, [0, 0], [0, 0], [0, 0], [0, 0]], 'FT': [0, [0, 0], [0, 0], [0, 0], [0, 0]], 'CU': [0, [0, 0], [0, 0], [0, 0], [0, 0]], 'FS': [1, [1, 85.3], [0, 0], [0, 0], [0, 0]], 'SI': [1, [1, 96.9], [0, 0], [0, 0], [0, 0]]}]}\n"
     ]
    }
   ],
   "source": [
    "# for b in batters:    \n",
    "#     for z in range(22):\n",
    "#         for p in batters[b][z]:\n",
    "#             batters[b][z][p].insert(5,get_color_speed(batters[b][z][p]))\n",
    "\n",
    "#print(batters)\n",
    "for b in batters:    \n",
    "    for z in range(22):\n",
    "        for p in batters[b][z]:\n",
    "            batters[b][z][p].insert(5,get_color_speed(batters[b][z][p]))"
   ]
  },
  {
   "cell_type": "code",
   "execution_count": 17,
   "metadata": {},
   "outputs": [],
   "source": [
    "# print(batters)"
   ]
  },
  {
   "cell_type": "markdown",
   "metadata": {},
   "source": [
    "### Data Set With Relevant Info for JSON"
   ]
  },
  {
   "cell_type": "code",
   "execution_count": 12,
   "metadata": {},
   "outputs": [],
   "source": [
    "# with open(\"6_hitters_all.json\", \"w\") as hitters_file:\n",
    "#     json.dump(batters, hitters_file, sort_keys=True, indent=2)"
   ]
  },
  {
   "cell_type": "code",
   "execution_count": 9,
   "metadata": {},
   "outputs": [
    {
     "ename": "NameError",
     "evalue": "name 'batters' is not defined",
     "output_type": "error",
     "traceback": [
      "\u001b[0;31m---------------------------------------------------------------------------\u001b[0m",
      "\u001b[0;31mNameError\u001b[0m                                 Traceback (most recent call last)",
      "\u001b[0;32m<ipython-input-9-54fca32ec9ca>\u001b[0m in \u001b[0;36m<module>\u001b[0;34m\u001b[0m\n\u001b[1;32m      1\u001b[0m \u001b[0msimplified_batters\u001b[0m \u001b[0;34m=\u001b[0m \u001b[0;34m{\u001b[0m\u001b[0;34m}\u001b[0m\u001b[0;34m\u001b[0m\u001b[0;34m\u001b[0m\u001b[0m\n\u001b[0;32m----> 2\u001b[0;31m \u001b[0;32mfor\u001b[0m \u001b[0mb\u001b[0m \u001b[0;32min\u001b[0m \u001b[0mbatters\u001b[0m\u001b[0;34m:\u001b[0m\u001b[0;34m\u001b[0m\u001b[0;34m\u001b[0m\u001b[0m\n\u001b[0m\u001b[1;32m      3\u001b[0m     \u001b[0msimplified_batters\u001b[0m\u001b[0;34m[\u001b[0m\u001b[0mb\u001b[0m\u001b[0;34m]\u001b[0m \u001b[0;34m=\u001b[0m \u001b[0;34m[\u001b[0m\u001b[0;34m]\u001b[0m\u001b[0;34m\u001b[0m\u001b[0;34m\u001b[0m\u001b[0m\n\u001b[1;32m      4\u001b[0m     \u001b[0;32mfor\u001b[0m \u001b[0mz\u001b[0m \u001b[0;32min\u001b[0m \u001b[0mrange\u001b[0m\u001b[0;34m(\u001b[0m\u001b[0;36m22\u001b[0m\u001b[0;34m)\u001b[0m\u001b[0;34m:\u001b[0m\u001b[0;34m\u001b[0m\u001b[0;34m\u001b[0m\u001b[0m\n\u001b[1;32m      5\u001b[0m         \u001b[0mpitch_types\u001b[0m \u001b[0;34m=\u001b[0m \u001b[0;34m{\u001b[0m\u001b[0;34m}\u001b[0m\u001b[0;34m\u001b[0m\u001b[0;34m\u001b[0m\u001b[0m\n",
      "\u001b[0;31mNameError\u001b[0m: name 'batters' is not defined"
     ]
    }
   ],
   "source": [
    "simplified_batters = {}\n",
    "for b in batters:\n",
    "    simplified_batters[b] = []\n",
    "    for z in range(22):\n",
    "        pitch_types = {}\n",
    "        simplified_batters[b].insert(z, pitch_types)\n",
    "        for p in batters[b][z]:\n",
    "            #simplified_batters[b][z][p] = get_color_speed(batters[b][z][p])\n",
    "            color, avg_speed = get_color_speed(batters[b][z][p])\n",
    "            if (color != None) and (avg_speed != None):\n",
    "                simplified_batters[b][z][p] = (color, avg_speed)\n",
    "    \n",
    "print(simplified_batters)"
   ]
  },
  {
   "cell_type": "code",
   "execution_count": 14,
   "metadata": {},
   "outputs": [],
   "source": [
    "# with open(\"6_hitters_simp.json\", \"w\") as hitters_file:\n",
    "#     json.dump(simplified_batters, hitters_file, sort_keys=True, indent=2)"
   ]
  },
  {
   "cell_type": "markdown",
   "metadata": {
    "colab_type": "text",
    "id": "33dFJ7w8pMYB"
   },
   "source": [
    "### Sanity Check for colors of pitch types in zone for batter"
   ]
  },
  {
   "cell_type": "code",
   "execution_count": 15,
   "metadata": {
    "colab": {
     "base_uri": "https://localhost:8080/",
     "height": 1000
    },
    "colab_type": "code",
    "id": "qlC5cPuiQOLj",
    "outputId": "3d85b421-5837-4baa-e168-7013568ba7a4"
   },
   "outputs": [
    {
     "name": "stdout",
     "output_type": "stream",
     "text": [
      "Cody Bellinger 2019 Season\n",
      "\n",
      "Zone 0\n",
      "Red: []\n",
      "Yellow: []\n",
      "Green: [('FF', 93), ('CH', 83), ('SL', 85)]\n",
      "\n",
      "Zone 1\n",
      "Red: []\n",
      "Yellow: [('FF', 92)]\n",
      "Green: []\n",
      "\n",
      "Zone 2\n",
      "Red: []\n",
      "Yellow: [('FF', 94)]\n",
      "Green: []\n",
      "\n",
      "Zone 3\n",
      "Red: []\n",
      "Yellow: [('FF', 93)]\n",
      "Green: []\n",
      "\n",
      "Zone 4\n",
      "Red: []\n",
      "Yellow: [('SL', 86), ('FF', 94), ('SI', 92), ('FC', 88)]\n",
      "Green: []\n",
      "\n",
      "Zone 5\n",
      "Red: []\n",
      "Yellow: [('FF', 93), ('SL', 85), ('CH', 87), ('SI', 92)]\n",
      "Green: []\n",
      "\n",
      "Zone 6\n",
      "Red: [('SL', 85), ('CH', 88)]\n",
      "Yellow: [('FF', 94)]\n",
      "Green: [('FT', 93)]\n",
      "\n",
      "Zone 7\n",
      "Red: []\n",
      "Yellow: [('SL', 85), ('CH', 84), ('CU', 79), ('FT', 92)]\n",
      "Green: []\n",
      "\n",
      "Zone 8\n",
      "Red: []\n",
      "Yellow: [('FF', 93), ('CH', 86), ('FT', 93), ('SI', 91), ('SL', 84)]\n",
      "Green: []\n",
      "\n",
      "Zone 9\n",
      "Red: []\n",
      "Yellow: [('SL', 84), ('CH', 86), ('FF', 94), ('FC', 89), ('FT', 93)]\n",
      "Green: []\n",
      "\n",
      "Zone 10\n",
      "Red: []\n",
      "Yellow: []\n",
      "Green: []\n",
      "\n",
      "Zone 11\n",
      "Red: []\n",
      "Yellow: [('FF', 93)]\n",
      "Green: []\n",
      "\n",
      "Zone 12\n",
      "Red: [('FF', 92)]\n",
      "Yellow: []\n",
      "Green: []\n",
      "\n",
      "Zone 13\n",
      "Red: []\n",
      "Yellow: []\n",
      "Green: []\n",
      "\n",
      "Zone 14\n",
      "Red: []\n",
      "Yellow: [('FF', 93)]\n",
      "Green: []\n",
      "\n",
      "Zone 15\n",
      "Red: [('CH', 84)]\n",
      "Yellow: [('FT', 94), ('SL', 84), ('FF', 93)]\n",
      "Green: []\n",
      "\n",
      "Zone 16\n",
      "Red: []\n",
      "Yellow: [('SI', 90), ('SL', 85), ('FF', 92)]\n",
      "Green: [('FC', 88)]\n",
      "\n",
      "Zone 17\n",
      "Red: [('SI', 92)]\n",
      "Yellow: [('FF', 93), ('SL', 82), ('CH', 86), ('CU', 78), ('FT', 93), ('FC', 88)]\n",
      "Green: []\n",
      "\n",
      "Zone 18\n",
      "Red: []\n",
      "Yellow: []\n",
      "Green: []\n",
      "\n",
      "Zone 19\n",
      "Red: [('FF', 96)]\n",
      "Yellow: []\n",
      "Green: [('CU', 79), ('SL', 85), ('CH', 84)]\n",
      "\n",
      "Zone 20\n",
      "Red: [('SI', 91)]\n",
      "Yellow: [('CH', 86), ('SL', 84)]\n",
      "Green: [('FS', 85), ('CU', 80)]\n",
      "\n",
      "Zone 21\n",
      "Red: []\n",
      "Yellow: [('CH', 85)]\n",
      "Green: [('SL', 84)]\n",
      "\n"
     ]
    }
   ],
   "source": [
    "# for b in batters:\n",
    "print(\"Cody Bellinger 2019 Season\")\n",
    "bellinger = '641355'\n",
    "print()\n",
    "for z in range(22):\n",
    "    print(\"Zone %s\" %z)\n",
    "    red_pitch_types = []\n",
    "    yellow_pitch_types = []\n",
    "    green_pitch_types = []\n",
    "\n",
    "    for p in batters[bellinger][z]:\n",
    "        # color = batters[bellinger][z][p][5][0]\n",
    "        # avg_speed = batters[bellinger][z][p][5][1]\n",
    "        color, avg_speed = get_color_speed(batters[bellinger][z][p])\n",
    "        if color == 'red':\n",
    "            red_pitch_types.append((p, int(avg_speed)))\n",
    "        elif color == 'yellow':\n",
    "            yellow_pitch_types.append((p, int(avg_speed)))\n",
    "        elif color == 'green':\n",
    "            green_pitch_types.append((p, int(avg_speed)))\n",
    "\n",
    "    print(\"Red: \" + str(red_pitch_types))\n",
    "    print(\"Yellow: \" + str(yellow_pitch_types))\n",
    "    print(\"Green: \" + str(green_pitch_types))\n",
    "    print()"
   ]
  },
  {
   "cell_type": "code",
   "execution_count": null,
   "metadata": {
    "colab": {},
    "colab_type": "code",
    "id": "Ry7lCPELertM"
   },
   "outputs": [],
   "source": []
  }
 ],
 "metadata": {
  "colab": {
   "collapsed_sections": [],
   "name": "Hitter Analysis",
   "provenance": []
  },
  "kernelspec": {
   "display_name": "venv",
   "language": "python",
   "name": "venv"
  },
  "language_info": {
   "codemirror_mode": {
    "name": "ipython",
    "version": 3
   },
   "file_extension": ".py",
   "mimetype": "text/x-python",
   "name": "python",
   "nbconvert_exporter": "python",
   "pygments_lexer": "ipython3",
   "version": "3.8.1"
  }
 },
 "nbformat": 4,
 "nbformat_minor": 4
}
